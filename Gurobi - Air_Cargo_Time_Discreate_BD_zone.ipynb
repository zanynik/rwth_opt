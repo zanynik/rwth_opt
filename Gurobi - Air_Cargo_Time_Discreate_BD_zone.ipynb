{
 "cells": [
  {
   "cell_type": "code",
   "execution_count": 3,
   "metadata": {},
   "outputs": [],
   "source": [
    "import pandas as pd\n",
    "from gurobipy import *\n",
    "import matplotlib.pyplot as plt\n",
    "import math\n",
    "import numpy as np"
   ]
  },
  {
   "cell_type": "code",
   "execution_count": 4,
   "metadata": {},
   "outputs": [],
   "source": [
    "booking = pd.read_excel(\"Data/Booking_new.xlsx\")\n",
    "bd_zones = pd.read_excel(\"Data/BreakDownZones.xlsx\")\n",
    "dz_to_bd = pd.read_excel(\"Data/DistanceMatrixDropZoneToBreakDownZone.xlsx\")\n",
    "drop_zones = pd.read_excel(\"Data/DropZones.xlsx\")\n",
    "bu_zones = pd.read_excel(\"Data/Outbound.xlsx\", sheet_name='BU Zones')\n",
    "bu_zones_workstations = pd.read_excel(\"Data/Outbound.xlsx\", sheet_name='WorkStation')\n",
    "bu_zones_to_flight = pd.read_excel(\"Data/Outbound.xlsx\", sheet_name='FlightNumber-BUZone')\n",
    "flight_default_processing = pd.read_excel(\"Data/Outbound.xlsx\", sheet_name='DefaultProcessingTime')\n",
    "flight_pre_processing = pd.read_excel(\"Data/Outbound.xlsx\", sheet_name='Pre-ProcessingBufferTime')"
   ]
  },
  {
   "cell_type": "code",
   "execution_count": 5,
   "metadata": {},
   "outputs": [],
   "source": [
    "dz = list(drop_zones['Name'].unique())\n",
    "break_down_zones = list(bd_zones['Name'].unique())"
   ]
  },
  {
   "cell_type": "code",
   "execution_count": 6,
   "metadata": {},
   "outputs": [],
   "source": [
    "dz_to_bd[['h','m','s']] = pd.DataFrame([(x.hour, x.minute, x.second) for x in dz_to_bd['TransportDuration']])"
   ]
  },
  {
   "cell_type": "code",
   "execution_count": 7,
   "metadata": {},
   "outputs": [],
   "source": [
    "bd_zones[['handling_h','handling_m','handling_s']] = pd.DataFrame([(x.hour, x.minute, x.second) for x in bd_zones['HandlingTimePerULD']])\n",
    "bd_zones[['transport_WH_h','transport_WH_m','transport_WH_s']] = pd.DataFrame([(x.hour, x.minute, x.second) for x in bd_zones['TransportationTimeToWH']])"
   ]
  },
  {
   "cell_type": "code",
   "execution_count": 8,
   "metadata": {
    "scrolled": false
   },
   "outputs": [
    {
     "data": {
      "text/plain": [
       "Index(['Shipment ID', 'FlightDate', 'ShipmentArrivalDateUTC', 'ProductName',\n",
       "       'ShipmentOrigin', 'ShipmentDestination', 'CarrierCode', 'Priority',\n",
       "       'DropZone', 'FlightNumberArrival', 'SerialNumber', 'ArrivalULDNumber',\n",
       "       'Pieces', 'Weight', 'Volume', 'BookingStatus', 'WeighCMMit',\n",
       "       'VolumeUnit', 'TotalVolume', 'TotalWeight', 'TotalNumberOfPieces',\n",
       "       'FlightNumberDeparture', 'ShipmentDepartureDateUTC'],\n",
       "      dtype='object')"
      ]
     },
     "execution_count": 8,
     "metadata": {},
     "output_type": "execute_result"
    }
   ],
   "source": [
    "booking.columns"
   ]
  },
  {
   "cell_type": "code",
   "execution_count": 9,
   "metadata": {},
   "outputs": [
    {
     "data": {
      "text/plain": [
       "(785, 23)"
      ]
     },
     "execution_count": 9,
     "metadata": {},
     "output_type": "execute_result"
    }
   ],
   "source": [
    "booking.shape"
   ]
  },
  {
   "cell_type": "code",
   "execution_count": 10,
   "metadata": {},
   "outputs": [],
   "source": [
    "# booking_new.groupby(['ArrivalULDNumber'])[[]].count().reset_index()\n",
    "#Filter for same uld having both NRML and NML\n",
    "booking['count_shipments'] = 1\n",
    "multple_dropzone_check = booking.pivot_table(index=['ArrivalULDNumber'], columns='DropZone', values= 'count_shipments').reset_index()\n",
    "multple_dropzone_check = multple_dropzone_check.fillna(0)\n",
    "multple_dropzone_check.head()\n",
    "multple_dropzone_check['Two_different_dropzones_check'] = multple_dropzone_check['DZ NML-1'] + multple_dropzone_check['DZ NRML-1'] + multple_dropzone_check['DZ NRML-2']\n",
    "unique_dropzone_check = multple_dropzone_check[multple_dropzone_check.Two_different_dropzones_check==1.0]\n",
    "unique_dropzone_list = list(unique_dropzone_check['ArrivalULDNumber'].unique())\n",
    "booking = booking[booking['ArrivalULDNumber'].isin(unique_dropzone_list)]"
   ]
  },
  {
   "cell_type": "code",
   "execution_count": 11,
   "metadata": {},
   "outputs": [],
   "source": [
    "booking['Shipment_arrival_date_time'] = pd.to_datetime(booking['ShipmentArrivalDateUTC'])\n",
    "booking = booking[booking.ShipmentDepartureDateUTC != '2018-10-24T26:20:00']\n",
    "booking['Shipment_departure_date_time'] = pd.to_datetime(booking['ShipmentDepartureDateUTC'])\n",
    "booking['Shipment_duration'] = booking['Shipment_departure_date_time']-booking['Shipment_arrival_date_time']\n",
    "booking = booking[booking.Shipment_duration>pd.Timedelta(0)]"
   ]
  },
  {
   "cell_type": "code",
   "execution_count": 12,
   "metadata": {},
   "outputs": [
    {
     "data": {
      "text/plain": [
       "(1560, 13)"
      ]
     },
     "execution_count": 12,
     "metadata": {},
     "output_type": "execute_result"
    }
   ],
   "source": [
    "dz_ship_data = booking[['DropZone','ArrivalULDNumber']]\n",
    "uld_bd_data = pd.merge(dz_ship_data, dz_to_bd, left_on='DropZone', right_on='DropZoneName')\n",
    "uld_bd_data['key'] = uld_bd_data['ArrivalULDNumber'].astype(str) + '_' + uld_bd_data['BreakDownZoneName']\n",
    "uld_bd_data['dz_type'] =  uld_bd_data['DropZone'].apply(lambda x: x.split('-')[0]).str[3:]\n",
    "uld_bd_data['bd_type1'] = uld_bd_data['BreakDownZoneName'].apply(lambda x: x.split(' ')[1])\n",
    "uld_bd_data.loc[uld_bd_data['bd_type1'] == 'BD', 'bd_type1'] = \"NRML-1\"\n",
    "uld_bd_data['bd_type'] =  uld_bd_data['bd_type1'].apply(lambda x: x.split('-')[0])\n",
    "uld_bd_data['key_for_type'] = uld_bd_data.apply(lambda x: '1' if x['dz_type'] == x['bd_type'] else '0', axis=1)\n",
    "# uld_bd_data = uld_bd_data[(uld_bd_data.key_for_type == '1') & (uld_bd_data.dz_type == 'NRML')]\n",
    "# uld_bd_data = uld_bd_data.drop_duplicates('key')\n",
    "# uld_bd_data.shape\n",
    "#Some ULDS have both NML and NRML, THey for we filtering NRML only\n",
    "uld_bd_data = uld_bd_data[(uld_bd_data.key_for_type == '1')]\n",
    "uld_bd_data = uld_bd_data.drop_duplicates('key')\n",
    "uld_bd_data.shape"
   ]
  },
  {
   "cell_type": "code",
   "execution_count": 13,
   "metadata": {},
   "outputs": [
    {
     "data": {
      "text/plain": [
       "array(['NRML', 'NML'], dtype=object)"
      ]
     },
     "execution_count": 13,
     "metadata": {},
     "output_type": "execute_result"
    }
   ],
   "source": [
    "uld_bd_data['dz_type'].unique()"
   ]
  },
  {
   "cell_type": "code",
   "execution_count": 14,
   "metadata": {},
   "outputs": [
    {
     "data": {
      "text/html": [
       "<div>\n",
       "<style scoped>\n",
       "    .dataframe tbody tr th:only-of-type {\n",
       "        vertical-align: middle;\n",
       "    }\n",
       "\n",
       "    .dataframe tbody tr th {\n",
       "        vertical-align: top;\n",
       "    }\n",
       "\n",
       "    .dataframe thead th {\n",
       "        text-align: right;\n",
       "    }\n",
       "</style>\n",
       "<table border=\"1\" class=\"dataframe\">\n",
       "  <thead>\n",
       "    <tr style=\"text-align: right;\">\n",
       "      <th></th>\n",
       "      <th>DropZone</th>\n",
       "      <th>ArrivalULDNumber</th>\n",
       "      <th>BreakDownZoneName</th>\n",
       "      <th>DropZoneName</th>\n",
       "      <th>TransportDuration</th>\n",
       "      <th>h</th>\n",
       "      <th>m</th>\n",
       "      <th>s</th>\n",
       "      <th>key</th>\n",
       "      <th>dz_type</th>\n",
       "      <th>bd_type1</th>\n",
       "      <th>bd_type</th>\n",
       "      <th>key_for_type</th>\n",
       "    </tr>\n",
       "  </thead>\n",
       "  <tbody>\n",
       "    <tr>\n",
       "      <th>6518</th>\n",
       "      <td>DZ NML-1</td>\n",
       "      <td>76901</td>\n",
       "      <td>BD NML-1</td>\n",
       "      <td>DZ NML-1</td>\n",
       "      <td>00:28:00</td>\n",
       "      <td>0</td>\n",
       "      <td>28</td>\n",
       "      <td>0</td>\n",
       "      <td>76901_BD NML-1</td>\n",
       "      <td>NML</td>\n",
       "      <td>NML-1</td>\n",
       "      <td>NML</td>\n",
       "      <td>1</td>\n",
       "    </tr>\n",
       "    <tr>\n",
       "      <th>6521</th>\n",
       "      <td>DZ NML-1</td>\n",
       "      <td>76901</td>\n",
       "      <td>BD NML-2</td>\n",
       "      <td>DZ NML-1</td>\n",
       "      <td>00:26:00</td>\n",
       "      <td>0</td>\n",
       "      <td>26</td>\n",
       "      <td>0</td>\n",
       "      <td>76901_BD NML-2</td>\n",
       "      <td>NML</td>\n",
       "      <td>NML-2</td>\n",
       "      <td>NML</td>\n",
       "      <td>1</td>\n",
       "    </tr>\n",
       "    <tr>\n",
       "      <th>6525</th>\n",
       "      <td>DZ NML-1</td>\n",
       "      <td>76901</td>\n",
       "      <td>BD NML-3</td>\n",
       "      <td>DZ NML-1</td>\n",
       "      <td>00:11:00</td>\n",
       "      <td>0</td>\n",
       "      <td>11</td>\n",
       "      <td>0</td>\n",
       "      <td>76901_BD NML-3</td>\n",
       "      <td>NML</td>\n",
       "      <td>NML-3</td>\n",
       "      <td>NML</td>\n",
       "      <td>1</td>\n",
       "    </tr>\n",
       "  </tbody>\n",
       "</table>\n",
       "</div>"
      ],
      "text/plain": [
       "      DropZone  ArrivalULDNumber BreakDownZoneName DropZoneName  \\\n",
       "6518  DZ NML-1             76901          BD NML-1     DZ NML-1   \n",
       "6521  DZ NML-1             76901          BD NML-2     DZ NML-1   \n",
       "6525  DZ NML-1             76901          BD NML-3     DZ NML-1   \n",
       "\n",
       "     TransportDuration  h   m  s             key dz_type bd_type1 bd_type  \\\n",
       "6518          00:28:00  0  28  0  76901_BD NML-1     NML    NML-1     NML   \n",
       "6521          00:26:00  0  26  0  76901_BD NML-2     NML    NML-2     NML   \n",
       "6525          00:11:00  0  11  0  76901_BD NML-3     NML    NML-3     NML   \n",
       "\n",
       "     key_for_type  \n",
       "6518            1  \n",
       "6521            1  \n",
       "6525            1  "
      ]
     },
     "execution_count": 14,
     "metadata": {},
     "output_type": "execute_result"
    }
   ],
   "source": [
    "uld_bd_data[uld_bd_data.ArrivalULDNumber==76901]"
   ]
  },
  {
   "cell_type": "code",
   "execution_count": 15,
   "metadata": {},
   "outputs": [],
   "source": [
    "uld_to_bd_times = tupledict(pd.Series(uld_bd_data.m.values,index=[uld_bd_data.ArrivalULDNumber, uld_bd_data.BreakDownZoneName]).to_dict())"
   ]
  },
  {
   "cell_type": "code",
   "execution_count": 16,
   "metadata": {},
   "outputs": [],
   "source": [
    "booking['build_up_arrival_time'] =  booking['Shipment_arrival_date_time'] #+ np.timedelta64(2, 'h')\n",
    "booking['build_up_finish_time'] =  booking['Shipment_departure_date_time'] #- np.timedelta64(1, 'h')\n",
    "booking_new = booking[['ProductName', 'Priority', 'DropZone', 'ArrivalULDNumber', 'Pieces', 'Weight', 'TotalWeight',\n",
    "         'FlightNumberDeparture', 'Shipment_arrival_date_time', 'Shipment_departure_date_time',\n",
    "         'Shipment_duration', 'build_up_arrival_time', 'build_up_finish_time']]"
   ]
  },
  {
   "cell_type": "code",
   "execution_count": 17,
   "metadata": {},
   "outputs": [],
   "source": [
    "booking_new = pd.merge(booking_new, bu_zones_to_flight, left_on='FlightNumberDeparture', right_on='FlightNumber')\n",
    "booking_new = pd.merge(booking_new, bu_zones, left_on='BU Zone', right_on='Name')"
   ]
  },
  {
   "cell_type": "code",
   "execution_count": 18,
   "metadata": {},
   "outputs": [
    {
     "data": {
      "text/plain": [
       "array([77, 78, 79, 82, 81, 75, 71, 74, 73, 72, 76, 80, 1, 2, 5, 6, 4, 3,\n",
       "       25, 15, 16, 21, 22, 26, 27, 23, 17, 19, 20, 24, 18, 7, 8, 13, 9,\n",
       "       10, 11, 12, 14, 46, 43, 42, 45, 48, 47, 41, 40, 49, 50, 44, 60, 65,\n",
       "       66, 61, 68, 67, 69, 64, 59, 70, 63, 29, 34, 31, 36, 33, 35, 30, 38,\n",
       "       39, 32, 37, 54, 57, 55, 52, 53, 51, 58, 56], dtype=object)"
      ]
     },
     "execution_count": 18,
     "metadata": {},
     "output_type": "execute_result"
    }
   ],
   "source": [
    "booking_new['FlightNumberDeparture'].unique()"
   ]
  },
  {
   "cell_type": "code",
   "execution_count": 19,
   "metadata": {},
   "outputs": [],
   "source": [
    "bu_workstation_count = bu_zones_workstations.groupby(['Name']).count().reset_index()\n",
    "bu_workstation_count.columns = ['Name', 'Count']\n",
    "bd_zone_all = pd.merge(bu_zones, bu_workstation_count, left_on='Name', right_on='Name')"
   ]
  },
  {
   "cell_type": "code",
   "execution_count": 20,
   "metadata": {},
   "outputs": [],
   "source": [
    "bd_zone_all = pd.merge(bd_zone_all, bu_zones_to_flight, left_on='Name', right_on='BU Zone')\n",
    "booking_new = pd.merge(booking_new, bd_zone_all, left_on='FlightNumberDeparture', right_on='FlightNumber')"
   ]
  },
  {
   "cell_type": "code",
   "execution_count": 21,
   "metadata": {},
   "outputs": [],
   "source": [
    "booking_new[['ULD_handling_h','ULD_handling_m','ULD_handling_s']] = pd.DataFrame([(x.hour, x.minute, x.second) for x in booking_new['HandlingTimePerULD_x']])"
   ]
  },
  {
   "cell_type": "code",
   "execution_count": 22,
   "metadata": {},
   "outputs": [],
   "source": [
    "booking_new['arrival_date'] = booking_new['Shipment_arrival_date_time'].dt.normalize()\n",
    "booking_new['departure_date'] = booking_new['Shipment_departure_date_time'].dt.normalize()"
   ]
  },
  {
   "cell_type": "code",
   "execution_count": 23,
   "metadata": {},
   "outputs": [
    {
     "data": {
      "text/plain": [
       "array(['DZ NRML-2', 'DZ NRML-1', 'DZ NML-1'], dtype=object)"
      ]
     },
     "execution_count": 23,
     "metadata": {},
     "output_type": "execute_result"
    }
   ],
   "source": [
    "booking_new['DropZone'].unique()"
   ]
  },
  {
   "cell_type": "code",
   "execution_count": 24,
   "metadata": {},
   "outputs": [],
   "source": [
    "#Having both NRML and NML\n",
    "#booking_new = booking_new[booking_new.ArrivalULDNumber!=92852]\n",
    "# booking_new['count_shipments'] = 1"
   ]
  },
  {
   "cell_type": "code",
   "execution_count": 25,
   "metadata": {},
   "outputs": [
    {
     "data": {
      "text/plain": [
       "(517, 31)"
      ]
     },
     "execution_count": 25,
     "metadata": {},
     "output_type": "execute_result"
    }
   ],
   "source": [
    "booking_new.shape"
   ]
  },
  {
   "cell_type": "code",
   "execution_count": 26,
   "metadata": {},
   "outputs": [],
   "source": [
    "# # booking_new.groupby(['ArrivalULDNumber'])[[]].count().reset_index()\n",
    "\n",
    "# multple_dropzone_check = booking_new.pivot_table(index=['ArrivalULDNumber'], columns='DropZone', values= 'count_shipments').reset_index()\n",
    "# multple_dropzone_check = multple_dropzone_check.fillna(0)\n",
    "# multple_dropzone_check['Two_different_dropzones_check'] = multple_dropzone_check['DZ NML-1'] + multple_dropzone_check['DZ NRML-1'] + multple_dropzone_check['DZ NRML-2']"
   ]
  },
  {
   "cell_type": "code",
   "execution_count": 27,
   "metadata": {},
   "outputs": [],
   "source": [
    "# unique_dropzone_check = multple_dropzone_check[multple_dropzone_check.Two_different_dropzones_check==1.0]\n",
    "# unique_dropzone_list = list(unique_dropzone_check['ArrivalULDNumber'].unique())"
   ]
  },
  {
   "cell_type": "code",
   "execution_count": 28,
   "metadata": {},
   "outputs": [],
   "source": [
    "# booking_new = booking_new[booking_new['ArrivalULDNumber'].isin(unique_dropzone_list)]"
   ]
  },
  {
   "cell_type": "code",
   "execution_count": 29,
   "metadata": {},
   "outputs": [],
   "source": [
    "#booking_new[booking_new.ArrivalULDNumber==76631]"
   ]
  },
  {
   "cell_type": "code",
   "execution_count": 30,
   "metadata": {},
   "outputs": [],
   "source": [
    "##########################################################\n",
    "##########################################################\n",
    "##########################################################"
   ]
  },
  {
   "cell_type": "code",
   "execution_count": 31,
   "metadata": {},
   "outputs": [],
   "source": [
    "sample_shipments = booking_new.iloc[0:5,:]\n",
    "#sample_shipments = booking_new"
   ]
  },
  {
   "cell_type": "code",
   "execution_count": 32,
   "metadata": {},
   "outputs": [],
   "source": [
    "#sample_shipments"
   ]
  },
  {
   "cell_type": "code",
   "execution_count": 33,
   "metadata": {
    "scrolled": true
   },
   "outputs": [
    {
     "name": "stderr",
     "output_type": "stream",
     "text": [
      "C:\\ProgramData\\Anaconda3\\lib\\site-packages\\ipykernel_launcher.py:1: SettingWithCopyWarning: \n",
      "A value is trying to be set on a copy of a slice from a DataFrame.\n",
      "Try using .loc[row_indexer,col_indexer] = value instead\n",
      "\n",
      "See the caveats in the documentation: http://pandas.pydata.org/pandas-docs/stable/indexing.html#indexing-view-versus-copy\n",
      "  \"\"\"Entry point for launching an IPython kernel.\n",
      "C:\\ProgramData\\Anaconda3\\lib\\site-packages\\ipykernel_launcher.py:2: FutureWarning: Passing datetime64-dtype data to TimedeltaIndex is deprecated, will raise a TypeError in a future version\n",
      "  \n",
      "C:\\ProgramData\\Anaconda3\\lib\\site-packages\\ipykernel_launcher.py:2: SettingWithCopyWarning: \n",
      "A value is trying to be set on a copy of a slice from a DataFrame.\n",
      "Try using .loc[row_indexer,col_indexer] = value instead\n",
      "\n",
      "See the caveats in the documentation: http://pandas.pydata.org/pandas-docs/stable/indexing.html#indexing-view-versus-copy\n",
      "  \n",
      "C:\\ProgramData\\Anaconda3\\lib\\site-packages\\ipykernel_launcher.py:3: FutureWarning: Passing datetime64-dtype data to TimedeltaIndex is deprecated, will raise a TypeError in a future version\n",
      "  This is separate from the ipykernel package so we can avoid doing imports until\n",
      "C:\\ProgramData\\Anaconda3\\lib\\site-packages\\ipykernel_launcher.py:3: SettingWithCopyWarning: \n",
      "A value is trying to be set on a copy of a slice from a DataFrame.\n",
      "Try using .loc[row_indexer,col_indexer] = value instead\n",
      "\n",
      "See the caveats in the documentation: http://pandas.pydata.org/pandas-docs/stable/indexing.html#indexing-view-versus-copy\n",
      "  This is separate from the ipykernel package so we can avoid doing imports until\n"
     ]
    }
   ],
   "source": [
    "sample_shipments['Shipment_duration_minutes'] = (sample_shipments['Shipment_duration'] / np.timedelta64(1, 'm')).astype(int)\n",
    "sample_shipments['Shipment_arrival_time_minutes'] = pd.to_timedelta(sample_shipments['Shipment_arrival_date_time']).astype('timedelta64[m]').astype(int)\n",
    "sample_shipments['Shipment_departure_time_minutes'] = pd.to_timedelta(sample_shipments['Shipment_departure_date_time']).astype('timedelta64[m]').astype(int)"
   ]
  },
  {
   "cell_type": "code",
   "execution_count": 34,
   "metadata": {
    "scrolled": true
   },
   "outputs": [
    {
     "data": {
      "text/html": [
       "<div>\n",
       "<style scoped>\n",
       "    .dataframe tbody tr th:only-of-type {\n",
       "        vertical-align: middle;\n",
       "    }\n",
       "\n",
       "    .dataframe tbody tr th {\n",
       "        vertical-align: top;\n",
       "    }\n",
       "\n",
       "    .dataframe thead th {\n",
       "        text-align: right;\n",
       "    }\n",
       "</style>\n",
       "<table border=\"1\" class=\"dataframe\">\n",
       "  <thead>\n",
       "    <tr style=\"text-align: right;\">\n",
       "      <th></th>\n",
       "      <th>Description</th>\n",
       "      <th>Name</th>\n",
       "      <th>NumberOfWorkstations</th>\n",
       "      <th>SequenceNumber</th>\n",
       "      <th>TransportationTimeToWH</th>\n",
       "      <th>TargetProcessName</th>\n",
       "      <th>HandlingTimePerULD</th>\n",
       "      <th>handling_h</th>\n",
       "      <th>handling_m</th>\n",
       "      <th>handling_s</th>\n",
       "      <th>transport_WH_h</th>\n",
       "      <th>transport_WH_m</th>\n",
       "      <th>transport_WH_s</th>\n",
       "    </tr>\n",
       "  </thead>\n",
       "  <tbody>\n",
       "    <tr>\n",
       "      <th>0</th>\n",
       "      <td>the biggest BD zone for normal ULDs</td>\n",
       "      <td>B BD NRML-1</td>\n",
       "      <td>33</td>\n",
       "      <td>1</td>\n",
       "      <td>00:30:00</td>\n",
       "      <td>NORMAL</td>\n",
       "      <td>00:24:00</td>\n",
       "      <td>0</td>\n",
       "      <td>24</td>\n",
       "      <td>0</td>\n",
       "      <td>0</td>\n",
       "      <td>30</td>\n",
       "      <td>0</td>\n",
       "    </tr>\n",
       "    <tr>\n",
       "      <th>1</th>\n",
       "      <td>the 2nd biggest BD zone for normal ULDs</td>\n",
       "      <td>B BD NRML-2</td>\n",
       "      <td>10</td>\n",
       "      <td>2</td>\n",
       "      <td>00:25:00</td>\n",
       "      <td>NORMAL</td>\n",
       "      <td>00:24:00</td>\n",
       "      <td>0</td>\n",
       "      <td>24</td>\n",
       "      <td>0</td>\n",
       "      <td>0</td>\n",
       "      <td>25</td>\n",
       "      <td>0</td>\n",
       "    </tr>\n",
       "    <tr>\n",
       "      <th>2</th>\n",
       "      <td>an animal BD zone</td>\n",
       "      <td>BD NML-1</td>\n",
       "      <td>4</td>\n",
       "      <td>3</td>\n",
       "      <td>00:40:00</td>\n",
       "      <td>ANIMAL</td>\n",
       "      <td>00:13:00</td>\n",
       "      <td>0</td>\n",
       "      <td>13</td>\n",
       "      <td>0</td>\n",
       "      <td>0</td>\n",
       "      <td>40</td>\n",
       "      <td>0</td>\n",
       "    </tr>\n",
       "    <tr>\n",
       "      <th>3</th>\n",
       "      <td>the biggest BD zone for ULDs that have to be c...</td>\n",
       "      <td>BD CLD-1</td>\n",
       "      <td>8</td>\n",
       "      <td>4</td>\n",
       "      <td>00:30:00</td>\n",
       "      <td>COOLED</td>\n",
       "      <td>00:17:00</td>\n",
       "      <td>0</td>\n",
       "      <td>17</td>\n",
       "      <td>0</td>\n",
       "      <td>0</td>\n",
       "      <td>30</td>\n",
       "      <td>0</td>\n",
       "    </tr>\n",
       "    <tr>\n",
       "      <th>4</th>\n",
       "      <td>a normal BD zone</td>\n",
       "      <td>BD NRML-1</td>\n",
       "      <td>5</td>\n",
       "      <td>5</td>\n",
       "      <td>00:30:00</td>\n",
       "      <td>NORMAL</td>\n",
       "      <td>00:20:00</td>\n",
       "      <td>0</td>\n",
       "      <td>20</td>\n",
       "      <td>0</td>\n",
       "      <td>0</td>\n",
       "      <td>30</td>\n",
       "      <td>0</td>\n",
       "    </tr>\n",
       "  </tbody>\n",
       "</table>\n",
       "</div>"
      ],
      "text/plain": [
       "                                         Description         Name  \\\n",
       "0                the biggest BD zone for normal ULDs  B BD NRML-1   \n",
       "1            the 2nd biggest BD zone for normal ULDs  B BD NRML-2   \n",
       "2                                  an animal BD zone     BD NML-1   \n",
       "3  the biggest BD zone for ULDs that have to be c...     BD CLD-1   \n",
       "4                                   a normal BD zone    BD NRML-1   \n",
       "\n",
       "   NumberOfWorkstations  SequenceNumber TransportationTimeToWH  \\\n",
       "0                    33               1               00:30:00   \n",
       "1                    10               2               00:25:00   \n",
       "2                     4               3               00:40:00   \n",
       "3                     8               4               00:30:00   \n",
       "4                     5               5               00:30:00   \n",
       "\n",
       "  TargetProcessName HandlingTimePerULD  handling_h  handling_m  handling_s  \\\n",
       "0            NORMAL           00:24:00           0          24           0   \n",
       "1            NORMAL           00:24:00           0          24           0   \n",
       "2            ANIMAL           00:13:00           0          13           0   \n",
       "3            COOLED           00:17:00           0          17           0   \n",
       "4            NORMAL           00:20:00           0          20           0   \n",
       "\n",
       "   transport_WH_h  transport_WH_m  transport_WH_s  \n",
       "0               0              30               0  \n",
       "1               0              25               0  \n",
       "2               0              40               0  \n",
       "3               0              30               0  \n",
       "4               0              30               0  "
      ]
     },
     "execution_count": 34,
     "metadata": {},
     "output_type": "execute_result"
    }
   ],
   "source": [
    "bd_zones.head()"
   ]
  },
  {
   "cell_type": "code",
   "execution_count": 35,
   "metadata": {},
   "outputs": [
    {
     "data": {
      "text/plain": [
       "<bound method Series.unique of 0     B BD NRML-1\n",
       "1     B BD NRML-2\n",
       "2        BD NML-1\n",
       "3        BD CLD-1\n",
       "4       BD NRML-1\n",
       "5        BD NML-2\n",
       "6       BD NRML-2\n",
       "7       BD NRML-3\n",
       "8        BD CLD-2\n",
       "9        BD NML-3\n",
       "10      BD NRML-4\n",
       "11       BD CLD-4\n",
       "Name: Name, dtype: object>"
      ]
     },
     "execution_count": 35,
     "metadata": {},
     "output_type": "execute_result"
    }
   ],
   "source": [
    "bd_zones['Name'].unique"
   ]
  },
  {
   "cell_type": "code",
   "execution_count": 36,
   "metadata": {},
   "outputs": [],
   "source": [
    "new = sample_shipments[['ArrivalULDNumber', 'Shipment_duration_minutes','Shipment_arrival_time_minutes', 'Shipment_departure_time_minutes']]\n",
    "df_merge= pd.merge(uld_bd_data, new, on='ArrivalULDNumber')\n",
    "df_merge = df_merge.drop_duplicates('key')\n",
    "bd_capacity = bd_zones[['Name','NumberOfWorkstations', 'handling_m']]\n",
    "df_merge1 = df_merge.merge(bd_capacity, left_on='BreakDownZoneName', right_on='Name')"
   ]
  },
  {
   "cell_type": "code",
   "execution_count": 37,
   "metadata": {},
   "outputs": [
    {
     "data": {
      "text/plain": [
       "array(['DZ NRML-2', 'DZ NRML-1', 'DZ NML-1'], dtype=object)"
      ]
     },
     "execution_count": 37,
     "metadata": {},
     "output_type": "execute_result"
    }
   ],
   "source": [
    "uld_bd_data[\"DropZone\"].unique()"
   ]
  },
  {
   "cell_type": "code",
   "execution_count": 38,
   "metadata": {
    "scrolled": true
   },
   "outputs": [
    {
     "data": {
      "text/plain": [
       "Index(['DropZone', 'ArrivalULDNumber', 'BreakDownZoneName', 'DropZoneName',\n",
       "       'TransportDuration', 'h', 'm', 's', 'key', 'dz_type', 'bd_type1',\n",
       "       'bd_type', 'key_for_type', 'Shipment_duration_minutes',\n",
       "       'Shipment_arrival_time_minutes', 'Shipment_departure_time_minutes',\n",
       "       'Name', 'NumberOfWorkstations', 'handling_m'],\n",
       "      dtype='object')"
      ]
     },
     "execution_count": 38,
     "metadata": {},
     "output_type": "execute_result"
    }
   ],
   "source": [
    "df_merge1.columns"
   ]
  },
  {
   "cell_type": "code",
   "execution_count": 39,
   "metadata": {
    "scrolled": true
   },
   "outputs": [
    {
     "data": {
      "text/html": [
       "<div>\n",
       "<style scoped>\n",
       "    .dataframe tbody tr th:only-of-type {\n",
       "        vertical-align: middle;\n",
       "    }\n",
       "\n",
       "    .dataframe tbody tr th {\n",
       "        vertical-align: top;\n",
       "    }\n",
       "\n",
       "    .dataframe thead th {\n",
       "        text-align: right;\n",
       "    }\n",
       "</style>\n",
       "<table border=\"1\" class=\"dataframe\">\n",
       "  <thead>\n",
       "    <tr style=\"text-align: right;\">\n",
       "      <th></th>\n",
       "      <th>DropZone</th>\n",
       "      <th>ArrivalULDNumber</th>\n",
       "      <th>BreakDownZoneName</th>\n",
       "      <th>DropZoneName</th>\n",
       "      <th>TransportDuration</th>\n",
       "      <th>h</th>\n",
       "      <th>m</th>\n",
       "      <th>s</th>\n",
       "      <th>key</th>\n",
       "      <th>dz_type</th>\n",
       "      <th>bd_type1</th>\n",
       "      <th>bd_type</th>\n",
       "      <th>key_for_type</th>\n",
       "      <th>Shipment_duration_minutes</th>\n",
       "      <th>Shipment_arrival_time_minutes</th>\n",
       "      <th>Shipment_departure_time_minutes</th>\n",
       "      <th>Name</th>\n",
       "      <th>NumberOfWorkstations</th>\n",
       "      <th>handling_m</th>\n",
       "    </tr>\n",
       "  </thead>\n",
       "  <tbody>\n",
       "    <tr>\n",
       "      <th>0</th>\n",
       "      <td>DZ NRML-2</td>\n",
       "      <td>24321</td>\n",
       "      <td>B BD NRML-1</td>\n",
       "      <td>DZ NRML-2</td>\n",
       "      <td>00:11:00</td>\n",
       "      <td>0</td>\n",
       "      <td>11</td>\n",
       "      <td>0</td>\n",
       "      <td>24321_B BD NRML-1</td>\n",
       "      <td>NRML</td>\n",
       "      <td>NRML-1</td>\n",
       "      <td>NRML</td>\n",
       "      <td>1</td>\n",
       "      <td>2295</td>\n",
       "      <td>25671250</td>\n",
       "      <td>25673545</td>\n",
       "      <td>B BD NRML-1</td>\n",
       "      <td>33</td>\n",
       "      <td>24</td>\n",
       "    </tr>\n",
       "    <tr>\n",
       "      <th>1</th>\n",
       "      <td>DZ NRML-2</td>\n",
       "      <td>34576</td>\n",
       "      <td>B BD NRML-1</td>\n",
       "      <td>DZ NRML-2</td>\n",
       "      <td>00:11:00</td>\n",
       "      <td>0</td>\n",
       "      <td>11</td>\n",
       "      <td>0</td>\n",
       "      <td>34576_B BD NRML-1</td>\n",
       "      <td>NRML</td>\n",
       "      <td>NRML-1</td>\n",
       "      <td>NRML</td>\n",
       "      <td>1</td>\n",
       "      <td>1815</td>\n",
       "      <td>25671730</td>\n",
       "      <td>25673545</td>\n",
       "      <td>B BD NRML-1</td>\n",
       "      <td>33</td>\n",
       "      <td>24</td>\n",
       "    </tr>\n",
       "    <tr>\n",
       "      <th>2</th>\n",
       "      <td>DZ NRML-1</td>\n",
       "      <td>53456</td>\n",
       "      <td>B BD NRML-1</td>\n",
       "      <td>DZ NRML-1</td>\n",
       "      <td>00:25:00</td>\n",
       "      <td>0</td>\n",
       "      <td>25</td>\n",
       "      <td>0</td>\n",
       "      <td>53456_B BD NRML-1</td>\n",
       "      <td>NRML</td>\n",
       "      <td>NRML-1</td>\n",
       "      <td>NRML</td>\n",
       "      <td>1</td>\n",
       "      <td>1635</td>\n",
       "      <td>25671910</td>\n",
       "      <td>25673545</td>\n",
       "      <td>B BD NRML-1</td>\n",
       "      <td>33</td>\n",
       "      <td>24</td>\n",
       "    </tr>\n",
       "    <tr>\n",
       "      <th>3</th>\n",
       "      <td>DZ NRML-1</td>\n",
       "      <td>80167</td>\n",
       "      <td>B BD NRML-1</td>\n",
       "      <td>DZ NRML-1</td>\n",
       "      <td>00:25:00</td>\n",
       "      <td>0</td>\n",
       "      <td>25</td>\n",
       "      <td>0</td>\n",
       "      <td>80167_B BD NRML-1</td>\n",
       "      <td>NRML</td>\n",
       "      <td>NRML-1</td>\n",
       "      <td>NRML</td>\n",
       "      <td>1</td>\n",
       "      <td>570</td>\n",
       "      <td>25672975</td>\n",
       "      <td>25673545</td>\n",
       "      <td>B BD NRML-1</td>\n",
       "      <td>33</td>\n",
       "      <td>24</td>\n",
       "    </tr>\n",
       "    <tr>\n",
       "      <th>4</th>\n",
       "      <td>DZ NRML-2</td>\n",
       "      <td>24321</td>\n",
       "      <td>B BD NRML-2</td>\n",
       "      <td>DZ NRML-2</td>\n",
       "      <td>00:17:00</td>\n",
       "      <td>0</td>\n",
       "      <td>17</td>\n",
       "      <td>0</td>\n",
       "      <td>24321_B BD NRML-2</td>\n",
       "      <td>NRML</td>\n",
       "      <td>NRML-1</td>\n",
       "      <td>NRML</td>\n",
       "      <td>1</td>\n",
       "      <td>2295</td>\n",
       "      <td>25671250</td>\n",
       "      <td>25673545</td>\n",
       "      <td>B BD NRML-2</td>\n",
       "      <td>10</td>\n",
       "      <td>24</td>\n",
       "    </tr>\n",
       "  </tbody>\n",
       "</table>\n",
       "</div>"
      ],
      "text/plain": [
       "    DropZone  ArrivalULDNumber BreakDownZoneName DropZoneName  \\\n",
       "0  DZ NRML-2             24321       B BD NRML-1    DZ NRML-2   \n",
       "1  DZ NRML-2             34576       B BD NRML-1    DZ NRML-2   \n",
       "2  DZ NRML-1             53456       B BD NRML-1    DZ NRML-1   \n",
       "3  DZ NRML-1             80167       B BD NRML-1    DZ NRML-1   \n",
       "4  DZ NRML-2             24321       B BD NRML-2    DZ NRML-2   \n",
       "\n",
       "  TransportDuration  h   m  s                key dz_type bd_type1 bd_type  \\\n",
       "0          00:11:00  0  11  0  24321_B BD NRML-1    NRML   NRML-1    NRML   \n",
       "1          00:11:00  0  11  0  34576_B BD NRML-1    NRML   NRML-1    NRML   \n",
       "2          00:25:00  0  25  0  53456_B BD NRML-1    NRML   NRML-1    NRML   \n",
       "3          00:25:00  0  25  0  80167_B BD NRML-1    NRML   NRML-1    NRML   \n",
       "4          00:17:00  0  17  0  24321_B BD NRML-2    NRML   NRML-1    NRML   \n",
       "\n",
       "  key_for_type  Shipment_duration_minutes  Shipment_arrival_time_minutes  \\\n",
       "0            1                       2295                       25671250   \n",
       "1            1                       1815                       25671730   \n",
       "2            1                       1635                       25671910   \n",
       "3            1                        570                       25672975   \n",
       "4            1                       2295                       25671250   \n",
       "\n",
       "   Shipment_departure_time_minutes         Name  NumberOfWorkstations  \\\n",
       "0                         25673545  B BD NRML-1                    33   \n",
       "1                         25673545  B BD NRML-1                    33   \n",
       "2                         25673545  B BD NRML-1                    33   \n",
       "3                         25673545  B BD NRML-1                    33   \n",
       "4                         25673545  B BD NRML-2                    10   \n",
       "\n",
       "   handling_m  \n",
       "0          24  \n",
       "1          24  \n",
       "2          24  \n",
       "3          24  \n",
       "4          24  "
      ]
     },
     "execution_count": 39,
     "metadata": {},
     "output_type": "execute_result"
    }
   ],
   "source": [
    "df_merge1.head()"
   ]
  },
  {
   "cell_type": "code",
   "execution_count": 40,
   "metadata": {},
   "outputs": [
    {
     "data": {
      "text/html": [
       "<div>\n",
       "<style scoped>\n",
       "    .dataframe tbody tr th:only-of-type {\n",
       "        vertical-align: middle;\n",
       "    }\n",
       "\n",
       "    .dataframe tbody tr th {\n",
       "        vertical-align: top;\n",
       "    }\n",
       "\n",
       "    .dataframe thead th {\n",
       "        text-align: right;\n",
       "    }\n",
       "</style>\n",
       "<table border=\"1\" class=\"dataframe\">\n",
       "  <thead>\n",
       "    <tr style=\"text-align: right;\">\n",
       "      <th></th>\n",
       "      <th>DropZone</th>\n",
       "      <th>ArrivalULDNumber</th>\n",
       "      <th>BreakDownZoneName</th>\n",
       "      <th>DropZoneName</th>\n",
       "      <th>TransportDuration</th>\n",
       "      <th>h</th>\n",
       "      <th>m</th>\n",
       "      <th>s</th>\n",
       "      <th>key</th>\n",
       "      <th>dz_type</th>\n",
       "      <th>bd_type1</th>\n",
       "      <th>bd_type</th>\n",
       "      <th>key_for_type</th>\n",
       "      <th>Shipment_duration_minutes</th>\n",
       "      <th>Shipment_arrival_time_minutes</th>\n",
       "      <th>Shipment_departure_time_minutes</th>\n",
       "      <th>Name</th>\n",
       "      <th>NumberOfWorkstations</th>\n",
       "      <th>handling_m</th>\n",
       "    </tr>\n",
       "  </thead>\n",
       "  <tbody>\n",
       "  </tbody>\n",
       "</table>\n",
       "</div>"
      ],
      "text/plain": [
       "Empty DataFrame\n",
       "Columns: [DropZone, ArrivalULDNumber, BreakDownZoneName, DropZoneName, TransportDuration, h, m, s, key, dz_type, bd_type1, bd_type, key_for_type, Shipment_duration_minutes, Shipment_arrival_time_minutes, Shipment_departure_time_minutes, Name, NumberOfWorkstations, handling_m]\n",
       "Index: []"
      ]
     },
     "execution_count": 40,
     "metadata": {},
     "output_type": "execute_result"
    }
   ],
   "source": [
    "df_merge1[df_merge1.ArrivalULDNumber==76631]"
   ]
  },
  {
   "cell_type": "code",
   "execution_count": 41,
   "metadata": {},
   "outputs": [
    {
     "data": {
      "text/plain": [
       "array(['DZ NRML-2', 'DZ NRML-1'], dtype=object)"
      ]
     },
     "execution_count": 41,
     "metadata": {},
     "output_type": "execute_result"
    }
   ],
   "source": [
    "df_merge1['DropZone'].unique()"
   ]
  },
  {
   "cell_type": "code",
   "execution_count": 42,
   "metadata": {},
   "outputs": [
    {
     "data": {
      "text/plain": [
       "array([2295, 1815, 1635,  570], dtype=int64)"
      ]
     },
     "execution_count": 42,
     "metadata": {},
     "output_type": "execute_result"
    }
   ],
   "source": [
    "df_merge1['Shipment_duration_minutes'].unique()"
   ]
  },
  {
   "cell_type": "code",
   "execution_count": 43,
   "metadata": {},
   "outputs": [],
   "source": [
    "df_merge1['one_hour_duration'] = 30"
   ]
  },
  {
   "cell_type": "code",
   "execution_count": 44,
   "metadata": {},
   "outputs": [],
   "source": [
    "ArrivalULDNumber_list = list(df_merge1['ArrivalULDNumber'].unique())\n",
    "BreakDownZoneName_list = list(df_merge1['BreakDownZoneName'].unique())"
   ]
  },
  {
   "cell_type": "code",
   "execution_count": 45,
   "metadata": {},
   "outputs": [
    {
     "name": "stdout",
     "output_type": "stream",
     "text": [
      "Academic license - for non-commercial use only\n"
     ]
    }
   ],
   "source": [
    "model = Model('BU zone model')"
   ]
  },
  {
   "cell_type": "code",
   "execution_count": 57,
   "metadata": {},
   "outputs": [],
   "source": [
    "#Discretisation has been done based on each BD zone handling times\n",
    "x = {}\n",
    "for i in ArrivalULDNumber_list:\n",
    "    BreakDownZoneName_list1 = list(df_merge1[df_merge1.ArrivalULDNumber==i]['BreakDownZoneName'])\n",
    "    #print(BreakDownZoneName_list1)\n",
    "    for j in BreakDownZoneName_list1:\n",
    "        #print(int(i),str(j))\n",
    "        new_check = df_merge1[(df_merge1.ArrivalULDNumber==i) & (df_merge1.BreakDownZoneName==j)]\n",
    "        min_time = min(list(df_merge1[df_merge1.BreakDownZoneName==j]['Shipment_arrival_time_minutes'].unique()))\n",
    "        shipment_arrival_time_minutes_loop = list(new_check['Shipment_arrival_time_minutes'].unique())[0]\n",
    "        shipment_arrival_duation_minutes_loop = list(new_check['one_hour_duration'].unique())[0] #list(new_check['Shipment_duration_minutes'].unique())[0]\n",
    "        handling_minutes = list(new_check['handling_m'].unique())[0]\n",
    "        #print(shipment_arrival_time_minutes_loop, handling_minutes)\n",
    "        t_start = (min_time + (math.ceil((shipment_arrival_time_minutes_loop-min_time)/handling_minutes)*handling_minutes))\n",
    "        for k in range(t_start, t_start+shipment_arrival_duation_minutes_loop, handling_minutes):\n",
    "            x[i,j,k] = model.addVar(vtype=GRB.BINARY)"
   ]
  },
  {
   "cell_type": "code",
   "execution_count": null,
   "metadata": {},
   "outputs": [],
   "source": []
  },
  {
   "cell_type": "code",
   "execution_count": 59,
   "metadata": {},
   "outputs": [],
   "source": [
    "# #Handling time of each bd zone take into account for the quicksum\n",
    "for i in ArrivalULDNumber_list:\n",
    "    BreakDownZoneName_list1 = list(df_merge1[df_merge1.ArrivalULDNumber==i]['BreakDownZoneName'])\n",
    "    new_check = df_merge1[(df_merge1.ArrivalULDNumber==i)]\n",
    "    shipment_arrival_time_minutes_loop = list(new_check['Shipment_arrival_time_minutes'].unique())[0]\n",
    "    shipment_arrival_duation_minutes_loop = list(new_check['one_hour_duration'].unique())[0] #list(new_check['Shipment_duration_minutes'].unique())[0]\n",
    "    #min_time = min(list(df_merge1[df_merge1.BreakDownZoneName.isin(BreakDownZoneName_list1)]['Shipment_arrival_time_minutes'].unique()))\n",
    "    #t_start = shipment_arrival_time_minutes_loop + (handling_minutes - (shipment_arrival_time_minutes_loop%min_time))\n",
    "    model.addConstr(quicksum(x[i,b,c] for b in BreakDownZoneName_list1 for c in range((min(list(df_merge1[df_merge1.BreakDownZoneName==b]['Shipment_arrival_time_minutes'].unique())) + (math.ceil((shipment_arrival_time_minutes_loop-min(list(df_merge1[df_merge1.BreakDownZoneName==b]['Shipment_arrival_time_minutes'].unique())))/(df_merge1[df_merge1.BreakDownZoneName==b].iloc[0]['handling_m']))*(df_merge1[df_merge1.BreakDownZoneName==b].iloc[0]['handling_m']))), (min(list(df_merge1[df_merge1.BreakDownZoneName==b]['Shipment_arrival_time_minutes'].unique())) + (math.ceil((shipment_arrival_time_minutes_loop-min(list(df_merge1[df_merge1.BreakDownZoneName==b]['Shipment_arrival_time_minutes'].unique())))/(df_merge1[df_merge1.BreakDownZoneName==b].iloc[0]['handling_m']))*(df_merge1[df_merge1.BreakDownZoneName==b].iloc[0]['handling_m']))) +shipment_arrival_duation_minutes_loop, df_merge1[df_merge1.BreakDownZoneName==b].iloc[0]['handling_m'])) == 1)\n",
    "    \n",
    "    \n",
    "    #Each ULD has diiferent times for each breakdownzones\n",
    "    \n",
    "    #(df_merge1[df_merge1.BreakDownZoneName==b].iloc[0]['handling_m'])\n",
    "    \n",
    "    #(min(list(df_merge1[df_merge1.BreakDownZoneName==j]['Shipment_arrival_time_minutes'].unique())) + (int((shipment_arrival_time_minutes_loop-min(list(df_merge1[df_merge1.BreakDownZoneName==j]['Shipment_arrival_time_minutes'].unique())))/(df_merge1[df_merge1.BreakDownZoneName==b].iloc[0]['handling_m']))*(df_merge1[df_merge1.BreakDownZoneName==b].iloc[0]['handling_m'])))"
   ]
  },
  {
   "cell_type": "code",
   "execution_count": 48,
   "metadata": {
    "scrolled": false
   },
   "outputs": [],
   "source": [
    "# for i in ArrivalULDNumber_list:\n",
    "#     model.addConstr(quicksum(x[i,j,k] for j, k in key, value in x.items())==1, \"Every_ULD_must_be_assigned\")"
   ]
  },
  {
   "cell_type": "code",
   "execution_count": 60,
   "metadata": {},
   "outputs": [],
   "source": [
    "for i in ArrivalULDNumber_list:\n",
    "    #for j in BreakDownZoneName_list:\n",
    "        #print(int(i),str(j))\n",
    "    BreakDownZoneName_list1 = list(df_merge1[df_merge1.ArrivalULDNumber==i]['BreakDownZoneName'])\n",
    "    new_check = df_merge1[(df_merge1.ArrivalULDNumber==i)]\n",
    "    shipment_arrival_time_minutes_loop = list(new_check['Shipment_arrival_time_minutes'].unique())[0]\n",
    "    shipment_arrival_duation_minutes_loop = list(new_check['one_hour_duration'].unique())[0] #list(new_check['Shipment_duration_minutes'].unique())[0]\n",
    "    arrival_time_each_uld = list(new_check['Shipment_arrival_time_minutes'].unique())[0]\n",
    "    transport_time_each_bd_zone = list(new_check['m'].unique())[0]\n",
    "        #for k in range(shipment_arrival_duation_minutes_loop):\n",
    "    model.addConstr(quicksum((c-df_merge1[df_merge1.BreakDownZoneName==b].iloc[0]['m'])*x[i,b,c] for b in BreakDownZoneName_list1 for c in range((min(list(df_merge1[df_merge1.BreakDownZoneName==b]['Shipment_arrival_time_minutes'].unique())) + (math.ceil((shipment_arrival_time_minutes_loop-min(list(df_merge1[df_merge1.BreakDownZoneName==b]['Shipment_arrival_time_minutes'].unique())))/(df_merge1[df_merge1.BreakDownZoneName==b].iloc[0]['handling_m']))*(df_merge1[df_merge1.BreakDownZoneName==b].iloc[0]['handling_m']))), (min(list(df_merge1[df_merge1.BreakDownZoneName==b]['Shipment_arrival_time_minutes'].unique())) + (math.ceil((shipment_arrival_time_minutes_loop-min(list(df_merge1[df_merge1.BreakDownZoneName==b]['Shipment_arrival_time_minutes'].unique())))/(df_merge1[df_merge1.BreakDownZoneName==b].iloc[0]['handling_m']))*(df_merge1[df_merge1.BreakDownZoneName==b].iloc[0]['handling_m']))) +shipment_arrival_duation_minutes_loop, df_merge1[df_merge1.BreakDownZoneName==b].iloc[0]['handling_m'])) >= arrival_time_each_uld)"
   ]
  },
  {
   "cell_type": "code",
   "execution_count": 61,
   "metadata": {},
   "outputs": [],
   "source": [
    "for j in BreakDownZoneName_list:\n",
    "        #print(int(i),str(j))\n",
    "    new_check = df_merge1[df_merge1.BreakDownZoneName==j]\n",
    "    min_time = min(list(new_check['Shipment_arrival_time_minutes'].unique()))\n",
    "    max_time = max(list(new_check['Shipment_departure_time_minutes'].unique()))\n",
    "    uld_break = list(new_check['ArrivalULDNumber'].unique())\n",
    "    #shipment_arrival_time_minutes_loop = list(new_check['Shipment_arrival_time_minutes'].unique())[0]\n",
    "    #shipment_arrival_duation_minutes_loop = list(new_check['one_hour_duration'].unique())[0] #list(new_check['Shipment_duration_minutes'].unique())[0]\n",
    "    handling_minutes = list(new_check['handling_m'].unique())[0]\n",
    "    #print(handling_minutes)\n",
    "    cap = list(new_check['NumberOfWorkstations'].unique())[0]\n",
    "    for t in range(min_time, max_time-handling_minutes-1, handling_minutes):\n",
    "        #print(t)\n",
    "        uld_list1=[]\n",
    "        uld_list2=[]\n",
    "        for i in uld_break:\n",
    "            if(t in range((min_time + (math.ceil((new_check[new_check.ArrivalULDNumber==i].iloc[0]['Shipment_arrival_time_minutes']-min_time)/df_merge1[df_merge1.BreakDownZoneName==j].iloc[0]['handling_m'])*df_merge1[df_merge1.BreakDownZoneName==j].iloc[0]['handling_m'])), (min_time + (math.ceil((new_check[new_check.ArrivalULDNumber==i].iloc[0]['Shipment_arrival_time_minutes']-min_time)/df_merge1[df_merge1.BreakDownZoneName==j].iloc[0]['handling_m'])*df_merge1[df_merge1.BreakDownZoneName==j].iloc[0]['handling_m']))+shipment_arrival_duation_minutes_loop, df_merge1[df_merge1.BreakDownZoneName==j].iloc[0]['handling_m'])):#new_check[new_check.ArrivalULDNumber==i].iloc[0]['Shipment_departure_time_minutes'])): \n",
    "                uld_list1.append(i)\n",
    "                #print(t,uld_list1)\n",
    "        if(len(uld_list1)!=0):\n",
    "            model.addConstr(quicksum(x[a,j,t] for a in uld_list1) <= cap)\n",
    "\n",
    "# Start time is (min_time + (int((new_check[new_check.ArrivalULDNumber==i].iloc[0]['Shipment_arrival_time_minutes']-min_time)/df_merge1[df_merge1.BreakDownZoneName==j].iloc[0]['handling_m'])*df_merge1[df_merge1.BreakDownZoneName==j].iloc[0]['handling_m']))\n",
    "#         for i in uld_break:\n",
    "#             if(t+handling_minutes in range(new_check[new_check.ArrivalULDNumber==i].iloc[0]['Shipment_arrival_time_minutes'], (new_check[new_check.ArrivalULDNumber==i].iloc[0]['Shipment_arrival_time_minutes']+60))):#new_check[new_check.ArrivalULDNumber==i].iloc[0]['Shipment_departure_time_minutes'])):\n",
    "#                      uld_list2.append(i)\n",
    "                     #print(t+handling_minutes,\"-\",uld_list2)\n",
    "#         combine_list = list(np.unique(uld_list1+uld_list2))\n",
    "        #print(min(t+handling_minutes,new_check[new_check.ArrivalULDNumber==21231].iloc[0]['Shipment_departure_time_minutes']))\n",
    "        #print(t)\n",
    "        \n",
    "            #model.addConstr(quicksum(x[a,j,t] for a in uld_list1) <= cap)\n",
    "        \n",
    "        \n",
    "#         range((new_check[new_check.ArrivalULDNumber==i].iloc[0]['Shipment_arrival_time_minutes'] + \n",
    "#                (df_merge1[df_merge1.BreakDownZoneName==j].iloc[0]['handling_m'] - \n",
    "#                 (new_check[new_check.ArrivalULDNumber==i].iloc[0]['Shipment_arrival_time_minutes']%min(list(df_merge1[df_merge1.BreakDownZoneName==j]['Shipment_arrival_time_minutes'].unique()))))), \n",
    "#               (new_check[new_check.ArrivalULDNumber==i].iloc[0]['Shipment_arrival_time_minutes'] + \n",
    "#                (df_merge1[df_merge1.BreakDownZoneName==j].iloc[0]['handling_m'] - \n",
    "#                 (new_check[new_check.ArrivalULDNumber==i].iloc[0]['Shipment_arrival_time_minutes']%min(list(df_merge1[df_merge1.BreakDownZoneName==j]['Shipment_arrival_time_minutes'].unique())))))+\n",
    "#               new_check[new_check.ArrivalULDNumber==i].iloc[0]['Shipment_arrival_time_minutes'], df_merge1[df_merge1.BreakDownZoneName==j].iloc[0]['handling_m'])"
   ]
  },
  {
   "cell_type": "code",
   "execution_count": null,
   "metadata": {},
   "outputs": [],
   "source": []
  },
  {
   "cell_type": "code",
   "execution_count": null,
   "metadata": {
    "scrolled": false
   },
   "outputs": [],
   "source": [
    "df_merge1[df_merge1.ArrivalULDNumber==34842]"
   ]
  },
  {
   "cell_type": "code",
   "execution_count": null,
   "metadata": {},
   "outputs": [],
   "source": [
    "df_merge1['DropZone'].unique()"
   ]
  },
  {
   "cell_type": "code",
   "execution_count": 48,
   "metadata": {},
   "outputs": [],
   "source": [
    "# t_max = model.addVar(vtype=GRB.INTEGER, obj=1.0, name=\"t_max\")"
   ]
  },
  {
   "cell_type": "code",
   "execution_count": 49,
   "metadata": {},
   "outputs": [],
   "source": [
    "# for i in ArrivalULDNumber_list:\n",
    "#         #print(int(i),str(j))\n",
    "#     BreakDownZoneName_list1 = list(df_merge1[df_merge1.ArrivalULDNumber==i]['BreakDownZoneName'])\n",
    "#     new_check = df_merge1[(df_merge1.ArrivalULDNumber==i)]\n",
    "#     shipment_arrival_time_minutes_loop = list(new_check['Shipment_arrival_time_minutes'].unique())[0]\n",
    "#     shipment_arrival_duation_minutes_loop = list(new_check['one_hour_duration'].unique())[0] #list(new_check['Shipment_duration_minutes'].unique())[0]\n",
    "#     arrival_time_each_uld = list(new_check['Shipment_arrival_time_minutes'].unique())[0]\n",
    "#     transport_time_each_bd_zone = list(new_check['m'].unique())\n",
    "#     model.addConstr(quicksum(c*x[i,b,c] for b in BreakDownZoneName_list1 for c in range(shipment_arrival_time_minutes_loop, shipment_arrival_time_minutes_loop+shipment_arrival_duation_minutes_loop)) <= t_max)"
   ]
  },
  {
   "cell_type": "code",
   "execution_count": 75,
   "metadata": {},
   "outputs": [],
   "source": [
    "x[24321,'BD NRML-4',25671263]=model.addVar(vtype=GRB.BINARY)"
   ]
  },
  {
   "cell_type": "code",
   "execution_count": null,
   "metadata": {},
   "outputs": [],
   "source": []
  },
  {
   "cell_type": "code",
   "execution_count": 79,
   "metadata": {},
   "outputs": [],
   "source": [
    "#Will try summation of arrival times as objective function\n",
    "# x= x+y\n",
    "obj = 0\n",
    "for i in ArrivalULDNumber_list:\n",
    "        #print(int(i),str(j))\n",
    "    BreakDownZoneName_list1 = list(df_merge1[df_merge1.ArrivalULDNumber==i]['BreakDownZoneName'])\n",
    "    new_check = df_merge1[(df_merge1.ArrivalULDNumber==i)]\n",
    "    shipment_arrival_time_minutes_loop = list(new_check['Shipment_arrival_time_minutes'].unique())[0]\n",
    "    shipment_arrival_duation_minutes_loop = list(new_check['one_hour_duration'].unique())[0] #list(new_check['Shipment_duration_minutes'].unique())[0]\n",
    "    arrival_time_each_uld = list(new_check['Shipment_arrival_time_minutes'].unique())[0]\n",
    "    transport_time_each_bd_zone = list(new_check['m'].unique())\n",
    "    obj += quicksum(c*x[i,b,c] for b in BreakDownZoneName_list1 for c in range((min(list(df_merge1[df_merge1.BreakDownZoneName==b]['Shipment_arrival_time_minutes'].unique())) + (math.ceil((shipment_arrival_time_minutes_loop-min(list(df_merge1[df_merge1.BreakDownZoneName==b]['Shipment_arrival_time_minutes'].unique())))/(df_merge1[df_merge1.BreakDownZoneName==b].iloc[0]['handling_m']))*(df_merge1[df_merge1.BreakDownZoneName==b].iloc[0]['handling_m']))), (min(list(df_merge1[df_merge1.BreakDownZoneName==b]['Shipment_arrival_time_minutes'].unique())) + (math.ceil((shipment_arrival_time_minutes_loop-min(list(df_merge1[df_merge1.BreakDownZoneName==b]['Shipment_arrival_time_minutes'].unique())))/(df_merge1[df_merge1.BreakDownZoneName==b].iloc[0]['handling_m']))*(df_merge1[df_merge1.BreakDownZoneName==b].iloc[0]['handling_m']))) +shipment_arrival_duation_minutes_loop, df_merge1[df_merge1.BreakDownZoneName==b].iloc[0]['handling_m']))\n",
    "#obj = x.sum()\n",
    "#model.setObjective(obj, GRB.MAXIMIZE) "
   ]
  },
  {
   "cell_type": "code",
   "execution_count": 80,
   "metadata": {},
   "outputs": [],
   "source": [
    "model.setObjective(obj, GRB.MINIMIZE)"
   ]
  },
  {
   "cell_type": "code",
   "execution_count": 81,
   "metadata": {},
   "outputs": [
    {
     "name": "stdout",
     "output_type": "stream",
     "text": [
      "Optimize a model with 120 rows, 105 columns and 312 nonzeros\n",
      "Variable types: 0 continuous, 105 integer (105 binary)\n",
      "Coefficient statistics:\n",
      "  Matrix range     [1e+00, 3e+07]\n",
      "  Objective range  [3e+07, 3e+07]\n",
      "  Bounds range     [1e+00, 1e+00]\n",
      "  RHS range        [1e+00, 3e+07]\n",
      "\n",
      "Loaded MIP start with objective 7.70167e+07\n",
      "\n",
      "Presolve removed 120 rows and 105 columns\n",
      "Presolve time: 0.00s\n",
      "Presolve: All rows and columns removed\n",
      "\n",
      "Explored 0 nodes (0 simplex iterations) in 0.01 seconds\n",
      "Thread count was 1 (of 4 available processors)\n",
      "\n",
      "Solution count 1: 7.70167e+07 \n",
      "\n",
      "Optimal solution found (tolerance 1.00e-04)\n",
      "Best objective 7.701665600000e+07, best bound 7.701665600000e+07, gap 0.0000%\n"
     ]
    }
   ],
   "source": [
    "model.optimize()"
   ]
  },
  {
   "cell_type": "code",
   "execution_count": 189,
   "metadata": {},
   "outputs": [],
   "source": [
    "model.write(\"test.lp\")"
   ]
  },
  {
   "cell_type": "code",
   "execution_count": 82,
   "metadata": {
    "scrolled": true
   },
   "outputs": [
    {
     "name": "stdout",
     "output_type": "stream",
     "text": [
      "DZ 34576 assigned to BD BD NRML-4 at 25671744\n",
      "DZ 53456 assigned to BD B BD NRML-1 at 25671922\n",
      "DZ 80167 assigned to BD BD NRML-1 at 25672990\n"
     ]
    }
   ],
   "source": [
    "for i in ArrivalULDNumber_list:\n",
    "    BreakDownZoneName_list1 = list(df_merge1[df_merge1.ArrivalULDNumber==i]['BreakDownZoneName'])\n",
    "    #print(i, \"in\", BreakDownZoneName_list1)\n",
    "    for j in BreakDownZoneName_list1:\n",
    "        #print(int(i),str(j))\n",
    "        new_check = df_merge1[(df_merge1.ArrivalULDNumber==i) & (df_merge1.BreakDownZoneName==j)]\n",
    "        shipment_arrival_time_minutes_loop = list(new_check['Shipment_arrival_time_minutes'].unique())[0]\n",
    "        shipment_arrival_duation_minutes_loop = list(new_check['one_hour_duration'].unique())[0] #list(new_check['Shipment_duration_minutes'].unique())[0]\n",
    "        for k in range((min(list(df_merge1[df_merge1.BreakDownZoneName==j]['Shipment_arrival_time_minutes'].unique())) + (math.ceil((shipment_arrival_time_minutes_loop-min(list(df_merge1[df_merge1.BreakDownZoneName==j]['Shipment_arrival_time_minutes'].unique())))/(df_merge1[df_merge1.BreakDownZoneName==j].iloc[0]['handling_m']))*(df_merge1[df_merge1.BreakDownZoneName==j].iloc[0]['handling_m']))), (min(list(df_merge1[df_merge1.BreakDownZoneName==j]['Shipment_arrival_time_minutes'].unique())) + (math.ceil((shipment_arrival_time_minutes_loop-min(list(df_merge1[df_merge1.BreakDownZoneName==j]['Shipment_arrival_time_minutes'].unique())))/(df_merge1[df_merge1.BreakDownZoneName==j].iloc[0]['handling_m']))*(df_merge1[df_merge1.BreakDownZoneName==j].iloc[0]['handling_m']))) +shipment_arrival_duation_minutes_loop, df_merge1[df_merge1.BreakDownZoneName==j].iloc[0]['handling_m']):\n",
    "            if x[i,j,k].x > 0.5:\n",
    "                #print(k)\n",
    "                print(\"DZ\", i, \"assigned to BD\", j, \"at\", k)"
   ]
  },
  {
   "cell_type": "code",
   "execution_count": 214,
   "metadata": {},
   "outputs": [
    {
     "data": {
      "text/plain": [
       "<function matplotlib.pyplot.show(*args, **kw)>"
      ]
     },
     "execution_count": 214,
     "metadata": {},
     "output_type": "execute_result"
    },
    {
     "data": {
      "image/png": "[encoded data removed]",
      "text/plain": [
       "<Figure size 432x288 with 1 Axes>"
      ]
     },
     "metadata": {
      "needs_background": "light"
     },
     "output_type": "display_data"
    }
   ],
   "source": [
    "# visualize the optimal assignment\n",
    "for i in ArrivalULDNumber_list:\n",
    "    BreakDownZoneName_list1 = list(df_merge1[df_merge1.ArrivalULDNumber==i]['BreakDownZoneName'])\n",
    "    for j in BreakDownZoneName_list1:\n",
    "        #print(int(i),str(j))\n",
    "        new_check = df_merge1[(df_merge1.ArrivalULDNumber==i) & (df_merge1.BreakDownZoneName==j)]\n",
    "        shipment_arrival_time_minutes_loop = list(new_check['Shipment_arrival_time_minutes'].unique())[0]\n",
    "        shipment_arrival_duation_minutes_loop = list(new_check['one_hour_duration'].unique())[0] #list(new_check['Shipment_duration_minutes'].unique())[0]\n",
    "        for k in range((min(list(df_merge1[df_merge1.BreakDownZoneName==j]['Shipment_arrival_time_minutes'].unique())) + (int((shipment_arrival_time_minutes_loop-min(list(df_merge1[df_merge1.BreakDownZoneName==j]['Shipment_arrival_time_minutes'].unique())))/(df_merge1[df_merge1.BreakDownZoneName==j].iloc[0]['handling_m']))*(df_merge1[df_merge1.BreakDownZoneName==j].iloc[0]['handling_m']))), (min(list(df_merge1[df_merge1.BreakDownZoneName==j]['Shipment_arrival_time_minutes'].unique())) + (int((shipment_arrival_time_minutes_loop-min(list(df_merge1[df_merge1.BreakDownZoneName==j]['Shipment_arrival_time_minutes'].unique())))/(df_merge1[df_merge1.BreakDownZoneName==j].iloc[0]['handling_m']))*(df_merge1[df_merge1.BreakDownZoneName==j].iloc[0]['handling_m']))) +shipment_arrival_duation_minutes_loop, df_merge1[df_merge1.BreakDownZoneName==j].iloc[0]['handling_m']):\n",
    "            if x[i,j,k].x > 0.5:\n",
    "                #print(k)\n",
    "                #print(\"DZ\", i, \"assigned to BD\", j, \"at\", (shipment_arrival_time_minutes_loop+k))\n",
    "                plt.plot(shipment_arrival_time_minutes_loop+k, j, \"o\")\n",
    "# for j in range(m):    \n",
    "#     plt.plot(1, j, \"o\")\n",
    "# for i in range(n):\n",
    "#     for j in range(m):\n",
    "#         if x[i,j].x > 0.5:\n",
    "#             plt.plot([0,1], [i,j], \"k\")# todo\n",
    "plt.show"
   ]
  },
  {
   "cell_type": "code",
   "execution_count": 55,
   "metadata": {
    "scrolled": true
   },
   "outputs": [
    {
     "data": {
      "text/html": [
       "<div>\n",
       "<style scoped>\n",
       "    .dataframe tbody tr th:only-of-type {\n",
       "        vertical-align: middle;\n",
       "    }\n",
       "\n",
       "    .dataframe tbody tr th {\n",
       "        vertical-align: top;\n",
       "    }\n",
       "\n",
       "    .dataframe thead th {\n",
       "        text-align: right;\n",
       "    }\n",
       "</style>\n",
       "<table border=\"1\" class=\"dataframe\">\n",
       "  <thead>\n",
       "    <tr style=\"text-align: right;\">\n",
       "      <th></th>\n",
       "      <th>DropZone</th>\n",
       "      <th>ArrivalULDNumber</th>\n",
       "      <th>BreakDownZoneName</th>\n",
       "      <th>DropZoneName</th>\n",
       "      <th>TransportDuration</th>\n",
       "      <th>h</th>\n",
       "      <th>m</th>\n",
       "      <th>s</th>\n",
       "      <th>key</th>\n",
       "      <th>dz_type</th>\n",
       "      <th>bd_type1</th>\n",
       "      <th>bd_type</th>\n",
       "      <th>key_for_type</th>\n",
       "      <th>Shipment_duration_minutes</th>\n",
       "      <th>Shipment_arrival_time_minutes</th>\n",
       "      <th>Shipment_departure_time_minutes</th>\n",
       "      <th>Name</th>\n",
       "      <th>NumberOfWorkstations</th>\n",
       "      <th>handling_m</th>\n",
       "      <th>one_hour_duration</th>\n",
       "    </tr>\n",
       "  </thead>\n",
       "  <tbody>\n",
       "    <tr>\n",
       "      <th>3</th>\n",
       "      <td>DZ NRML-1</td>\n",
       "      <td>80167</td>\n",
       "      <td>B BD NRML-1</td>\n",
       "      <td>DZ NRML-1</td>\n",
       "      <td>00:25:00</td>\n",
       "      <td>0</td>\n",
       "      <td>25</td>\n",
       "      <td>0</td>\n",
       "      <td>80167_B BD NRML-1</td>\n",
       "      <td>NRML</td>\n",
       "      <td>NRML-1</td>\n",
       "      <td>NRML</td>\n",
       "      <td>1</td>\n",
       "      <td>570</td>\n",
       "      <td>25672975</td>\n",
       "      <td>25673545</td>\n",
       "      <td>B BD NRML-1</td>\n",
       "      <td>33</td>\n",
       "      <td>24</td>\n",
       "      <td>30</td>\n",
       "    </tr>\n",
       "    <tr>\n",
       "      <th>7</th>\n",
       "      <td>DZ NRML-1</td>\n",
       "      <td>80167</td>\n",
       "      <td>B BD NRML-2</td>\n",
       "      <td>DZ NRML-1</td>\n",
       "      <td>00:11:00</td>\n",
       "      <td>0</td>\n",
       "      <td>11</td>\n",
       "      <td>0</td>\n",
       "      <td>80167_B BD NRML-2</td>\n",
       "      <td>NRML</td>\n",
       "      <td>NRML-1</td>\n",
       "      <td>NRML</td>\n",
       "      <td>1</td>\n",
       "      <td>570</td>\n",
       "      <td>25672975</td>\n",
       "      <td>25673545</td>\n",
       "      <td>B BD NRML-2</td>\n",
       "      <td>10</td>\n",
       "      <td>24</td>\n",
       "      <td>30</td>\n",
       "    </tr>\n",
       "    <tr>\n",
       "      <th>11</th>\n",
       "      <td>DZ NRML-1</td>\n",
       "      <td>80167</td>\n",
       "      <td>BD NRML-1</td>\n",
       "      <td>DZ NRML-1</td>\n",
       "      <td>00:05:00</td>\n",
       "      <td>0</td>\n",
       "      <td>5</td>\n",
       "      <td>0</td>\n",
       "      <td>80167_BD NRML-1</td>\n",
       "      <td>NRML</td>\n",
       "      <td>NRML-1</td>\n",
       "      <td>NRML</td>\n",
       "      <td>1</td>\n",
       "      <td>570</td>\n",
       "      <td>25672975</td>\n",
       "      <td>25673545</td>\n",
       "      <td>BD NRML-1</td>\n",
       "      <td>5</td>\n",
       "      <td>20</td>\n",
       "      <td>30</td>\n",
       "    </tr>\n",
       "    <tr>\n",
       "      <th>15</th>\n",
       "      <td>DZ NRML-1</td>\n",
       "      <td>80167</td>\n",
       "      <td>BD NRML-2</td>\n",
       "      <td>DZ NRML-1</td>\n",
       "      <td>00:19:00</td>\n",
       "      <td>0</td>\n",
       "      <td>19</td>\n",
       "      <td>0</td>\n",
       "      <td>80167_BD NRML-2</td>\n",
       "      <td>NRML</td>\n",
       "      <td>NRML-2</td>\n",
       "      <td>NRML</td>\n",
       "      <td>1</td>\n",
       "      <td>570</td>\n",
       "      <td>25672975</td>\n",
       "      <td>25673545</td>\n",
       "      <td>BD NRML-2</td>\n",
       "      <td>6</td>\n",
       "      <td>20</td>\n",
       "      <td>30</td>\n",
       "    </tr>\n",
       "    <tr>\n",
       "      <th>19</th>\n",
       "      <td>DZ NRML-1</td>\n",
       "      <td>80167</td>\n",
       "      <td>BD NRML-3</td>\n",
       "      <td>DZ NRML-1</td>\n",
       "      <td>00:25:00</td>\n",
       "      <td>0</td>\n",
       "      <td>25</td>\n",
       "      <td>0</td>\n",
       "      <td>80167_BD NRML-3</td>\n",
       "      <td>NRML</td>\n",
       "      <td>NRML-3</td>\n",
       "      <td>NRML</td>\n",
       "      <td>1</td>\n",
       "      <td>570</td>\n",
       "      <td>25672975</td>\n",
       "      <td>25673545</td>\n",
       "      <td>BD NRML-3</td>\n",
       "      <td>3</td>\n",
       "      <td>20</td>\n",
       "      <td>30</td>\n",
       "    </tr>\n",
       "    <tr>\n",
       "      <th>23</th>\n",
       "      <td>DZ NRML-1</td>\n",
       "      <td>80167</td>\n",
       "      <td>BD NRML-4</td>\n",
       "      <td>DZ NRML-1</td>\n",
       "      <td>00:20:00</td>\n",
       "      <td>0</td>\n",
       "      <td>20</td>\n",
       "      <td>0</td>\n",
       "      <td>80167_BD NRML-4</td>\n",
       "      <td>NRML</td>\n",
       "      <td>NRML-4</td>\n",
       "      <td>NRML</td>\n",
       "      <td>1</td>\n",
       "      <td>570</td>\n",
       "      <td>25672975</td>\n",
       "      <td>25673545</td>\n",
       "      <td>BD NRML-4</td>\n",
       "      <td>3</td>\n",
       "      <td>13</td>\n",
       "      <td>30</td>\n",
       "    </tr>\n",
       "  </tbody>\n",
       "</table>\n",
       "</div>"
      ],
      "text/plain": [
       "     DropZone  ArrivalULDNumber BreakDownZoneName DropZoneName  \\\n",
       "3   DZ NRML-1             80167       B BD NRML-1    DZ NRML-1   \n",
       "7   DZ NRML-1             80167       B BD NRML-2    DZ NRML-1   \n",
       "11  DZ NRML-1             80167         BD NRML-1    DZ NRML-1   \n",
       "15  DZ NRML-1             80167         BD NRML-2    DZ NRML-1   \n",
       "19  DZ NRML-1             80167         BD NRML-3    DZ NRML-1   \n",
       "23  DZ NRML-1             80167         BD NRML-4    DZ NRML-1   \n",
       "\n",
       "   TransportDuration  h   m  s                key dz_type bd_type1 bd_type  \\\n",
       "3           00:25:00  0  25  0  80167_B BD NRML-1    NRML   NRML-1    NRML   \n",
       "7           00:11:00  0  11  0  80167_B BD NRML-2    NRML   NRML-1    NRML   \n",
       "11          00:05:00  0   5  0    80167_BD NRML-1    NRML   NRML-1    NRML   \n",
       "15          00:19:00  0  19  0    80167_BD NRML-2    NRML   NRML-2    NRML   \n",
       "19          00:25:00  0  25  0    80167_BD NRML-3    NRML   NRML-3    NRML   \n",
       "23          00:20:00  0  20  0    80167_BD NRML-4    NRML   NRML-4    NRML   \n",
       "\n",
       "   key_for_type  Shipment_duration_minutes  Shipment_arrival_time_minutes  \\\n",
       "3             1                        570                       25672975   \n",
       "7             1                        570                       25672975   \n",
       "11            1                        570                       25672975   \n",
       "15            1                        570                       25672975   \n",
       "19            1                        570                       25672975   \n",
       "23            1                        570                       25672975   \n",
       "\n",
       "    Shipment_departure_time_minutes         Name  NumberOfWorkstations  \\\n",
       "3                          25673545  B BD NRML-1                    33   \n",
       "7                          25673545  B BD NRML-2                    10   \n",
       "11                         25673545    BD NRML-1                     5   \n",
       "15                         25673545    BD NRML-2                     6   \n",
       "19                         25673545    BD NRML-3                     3   \n",
       "23                         25673545    BD NRML-4                     3   \n",
       "\n",
       "    handling_m  one_hour_duration  \n",
       "3           24                 30  \n",
       "7           24                 30  \n",
       "11          20                 30  \n",
       "15          20                 30  \n",
       "19          20                 30  \n",
       "23          13                 30  "
      ]
     },
     "execution_count": 55,
     "metadata": {},
     "output_type": "execute_result"
    }
   ],
   "source": [
    "df_merge1[df_merge1.ArrivalULDNumber==80167]"
   ]
  },
  {
   "cell_type": "code",
   "execution_count": 66,
   "metadata": {},
   "outputs": [
    {
     "data": {
      "text/html": [
       "<div>\n",
       "<style scoped>\n",
       "    .dataframe tbody tr th:only-of-type {\n",
       "        vertical-align: middle;\n",
       "    }\n",
       "\n",
       "    .dataframe tbody tr th {\n",
       "        vertical-align: top;\n",
       "    }\n",
       "\n",
       "    .dataframe thead th {\n",
       "        text-align: right;\n",
       "    }\n",
       "</style>\n",
       "<table border=\"1\" class=\"dataframe\">\n",
       "  <thead>\n",
       "    <tr style=\"text-align: right;\">\n",
       "      <th></th>\n",
       "      <th>Shipment ID</th>\n",
       "      <th>FlightDate</th>\n",
       "      <th>ShipmentArrivalDateUTC</th>\n",
       "      <th>ProductName</th>\n",
       "      <th>ShipmentOrigin</th>\n",
       "      <th>ShipmentDestination</th>\n",
       "      <th>CarrierCode</th>\n",
       "      <th>Priority</th>\n",
       "      <th>DropZone</th>\n",
       "      <th>FlightNumberArrival</th>\n",
       "      <th>...</th>\n",
       "      <th>TotalWeight</th>\n",
       "      <th>TotalNumberOfPieces</th>\n",
       "      <th>FlightNumberDeparture</th>\n",
       "      <th>ShipmentDepartureDateUTC</th>\n",
       "      <th>count_shipments</th>\n",
       "      <th>Shipment_arrival_date_time</th>\n",
       "      <th>Shipment_departure_date_time</th>\n",
       "      <th>Shipment_duration</th>\n",
       "      <th>build_up_arrival_time</th>\n",
       "      <th>build_up_finish_time</th>\n",
       "    </tr>\n",
       "  </thead>\n",
       "  <tbody>\n",
       "    <tr>\n",
       "      <th>708</th>\n",
       "      <td>020-45528685</td>\n",
       "      <td>2018-10-23</td>\n",
       "      <td>2018-10-23T20:15:00</td>\n",
       "      <td>NML</td>\n",
       "      <td>BKK</td>\n",
       "      <td>QQQ</td>\n",
       "      <td>ZZ</td>\n",
       "      <td>False</td>\n",
       "      <td>DZ NML-1</td>\n",
       "      <td>8170</td>\n",
       "      <td>...</td>\n",
       "      <td>36.4</td>\n",
       "      <td>1</td>\n",
       "      <td>73</td>\n",
       "      <td>2018-10-25T23:15:00</td>\n",
       "      <td>1</td>\n",
       "      <td>2018-10-23 20:15:00</td>\n",
       "      <td>2018-10-25 23:15:00</td>\n",
       "      <td>2 days 03:00:00</td>\n",
       "      <td>2018-10-23 20:15:00</td>\n",
       "      <td>2018-10-25 23:15:00</td>\n",
       "    </tr>\n",
       "  </tbody>\n",
       "</table>\n",
       "<p>1 rows × 29 columns</p>\n",
       "</div>"
      ],
      "text/plain": [
       "      Shipment ID FlightDate ShipmentArrivalDateUTC ProductName  \\\n",
       "708  020-45528685 2018-10-23    2018-10-23T20:15:00         NML   \n",
       "\n",
       "    ShipmentOrigin ShipmentDestination CarrierCode  Priority  DropZone  \\\n",
       "708            BKK                 QQQ          ZZ     False  DZ NML-1   \n",
       "\n",
       "    FlightNumberArrival  ...  TotalWeight  TotalNumberOfPieces  \\\n",
       "708                8170  ...         36.4                    1   \n",
       "\n",
       "     FlightNumberDeparture  ShipmentDepartureDateUTC  count_shipments  \\\n",
       "708                     73       2018-10-25T23:15:00                1   \n",
       "\n",
       "    Shipment_arrival_date_time Shipment_departure_date_time Shipment_duration  \\\n",
       "708        2018-10-23 20:15:00          2018-10-25 23:15:00   2 days 03:00:00   \n",
       "\n",
       "     build_up_arrival_time  build_up_finish_time  \n",
       "708    2018-10-23 20:15:00   2018-10-25 23:15:00  \n",
       "\n",
       "[1 rows x 29 columns]"
      ]
     },
     "execution_count": 66,
     "metadata": {},
     "output_type": "execute_result"
    }
   ],
   "source": [
    "booking[booking.ArrivalULDNumber==80226]"
   ]
  },
  {
   "cell_type": "code",
   "execution_count": null,
   "metadata": {},
   "outputs": [],
   "source": [
    "# for i in ArrivalULDNumber_list:\n",
    "#     #for j in BreakDownZoneName_list:\n",
    "#         #print(int(i),str(j))\n",
    "#     new_check = df_merge1[(df_merge1.ArrivalULDNumber==i) & (df_merge1.BreakDownZoneName==j)]\n",
    "#     shipment_arrival_time_minutes_loop = list(new_check['Shipment_arrival_time_minutes'].unique())[0]\n",
    "#     shipment_arrival_duation_minutes_loop = list(new_check['one_hour_duration'].unique())[0] #list(new_check['Shipment_duration_minutes'].unique())[0]\n",
    "#     arrival_time_each_uld = list(new_check['Shipment_arrival_time_minutes'].unique())[0]\n",
    "#     transport_time_each_bd_zone = list(new_check['m'].unique())[0]\n",
    "#         #for k in range(shipment_arrival_duation_minutes_loop):\n",
    "#     model.addConstr(quicksum((c-transport_time_each_bd_zone)*x[i,b,c] for b in BreakDownZoneName_list for c in range(shipment_arrival_time_minutes_loop, shipment_arrival_time_minutes_loop+shipment_arrival_duation_minutes_loop)) >= arrival_time_each_uld)"
   ]
  },
  {
   "cell_type": "code",
   "execution_count": null,
   "metadata": {},
   "outputs": [],
   "source": [
    "# for i in ArrivalULDNumber_list:\n",
    "#     #for j in BreakDownZoneName_list:\n",
    "#         #print(int(i),str(j))\n",
    "#     new_check = df_merge1[(df_merge1.ArrivalULDNumber==i) & (df_merge1.BreakDownZoneName==j)]\n",
    "#     shipment_arrival_time_minutes_loop = list(new_check['Shipment_arrival_time_minutes'].unique())[0]\n",
    "#     shipment_arrival_duation_minutes_loop = list(new_check['one_hour_duration'].unique())[0] #list(new_check['Shipment_duration_minutes'].unique())[0]\n",
    "#     arrival_time_each_uld = list(new_check['Shipment_arrival_time_minutes'].unique())[0]\n",
    "#     transport_time_each_bd_zone = list(new_check['m'].unique())[0]\n",
    "#         #for k in range(shipment_arrival_duation_minutes_loop):\n",
    "#     model.addConstr(quicksum((c-df_merge1[df_merge1.BreakDownZoneName==b].iloc[0]['m'])*x[i,b,c] for b in BreakDownZoneName_list for c in range(shipment_arrival_time_minutes_loop, shipment_arrival_time_minutes_loop+shipment_arrival_duation_minutes_loop)) >= arrival_time_each_uld)"
   ]
  },
  {
   "cell_type": "code",
   "execution_count": null,
   "metadata": {},
   "outputs": [],
   "source": [
    "# for i in ArrivalULDNumber_list:\n",
    "#     for j in BreakDownZoneName_list:\n",
    "#         #print(int(i),str(j))\n",
    "#         new_check = df_merge1[(df_merge1.ArrivalULDNumber==i) & (df_merge1.BreakDownZoneName==j)]\n",
    "#         shipment_arrival_time_minutes_loop = list(new_check['Shipment_arrival_time_minutes'].unique())[0]\n",
    "#         shipment_arrival_duation_minutes_loop = list(new_check['one_hour_duration'].unique())[0] #list(new_check['Shipment_duration_minutes'].unique())[0]\n",
    "#         handling_minutes = list(new_check['handling_m'].unique())[0]\n",
    "#         cap = list(new_check['NumberOfWorkstations'].unique())[0]\n",
    "#         #for k in range(shipment_arrival_time_minutes_loop+1, shipment_arrival_time_minutes_loop+shipment_arrival_duation_minutes_loop+1):\n",
    "#         model.addConstr(cap - quicksum(x[a,j,range(shipment_arrival_time_minutes_loop, shipment_arrival_time_minutes_loop+shipment_arrival_duation_minutes_loop)] for a in ArrivalULDNumber_list) >= quicksum(x[p,j,r] for p in ArrivalULDNumber_list for r in range(shipment_arrival_time_minutes_loop, shipment_arrival_time_minutes_loop+handling_minutes)))"
   ]
  },
  {
   "cell_type": "code",
   "execution_count": null,
   "metadata": {},
   "outputs": [],
   "source": [
    "# for j in BreakDownZoneName_list:\n",
    "#         #print(int(i),str(j))\n",
    "#     new_check = df_merge1[(df_merge1.BreakDownZoneName==j)]\n",
    "#     min_time = min(list(new_check['Shipment_arrival_time_minutes'].unique()))\n",
    "#     max_time = 60#max(list(new_check['Shipment_departure_time_minutes'].unique()))\n",
    "#     #shipment_arrival_time_minutes_loop = list(new_check['Shipment_arrival_time_minutes'].unique())[0]\n",
    "#     #shipment_arrival_duation_minutes_loop = list(new_check['one_hour_duration'].unique())[0] #list(new_check['Shipment_duration_minutes'].unique())[0]\n",
    "#     handling_minutes = list(new_check['handling_m'].unique())[0]\n",
    "#     #print(handling_minutes)\n",
    "#     cap = list(new_check['NumberOfWorkstations'].unique())[0]\n",
    "#     for t in range(min_time, max_time-handling_minutes):\n",
    "#         #print(max_time)\n",
    "#         model.addConstr(cap - quicksum(x[a,j,t] for a in ArrivalULDNumber_list) >= quicksum(x[p,j,r] for p in ArrivalULDNumber_list for r in range(t+1, t+handling_minutes)))\n",
    "#     #for k in range(shipment_arrival_time_minutes_loop+1, shipment_arrival_time_minutes_loop+shipment_arrival_duation_minutes_loop+1):\n",
    "    "
   ]
  },
  {
   "cell_type": "code",
   "execution_count": null,
   "metadata": {},
   "outputs": [],
   "source": [
    "df_merge1.head()"
   ]
  },
  {
   "cell_type": "code",
   "execution_count": null,
   "metadata": {},
   "outputs": [],
   "source": [
    "# t_max = model.addVar(vtype=GRB.INTEGER, obj=1.0, name=\"t_max\")"
   ]
  },
  {
   "cell_type": "code",
   "execution_count": null,
   "metadata": {},
   "outputs": [],
   "source": [
    "# for i in ArrivalULDNumber_list:\n",
    "#         #print(int(i),str(j))\n",
    "#     new_check = df_merge1[(df_merge1.ArrivalULDNumber==i)]\n",
    "#     shipment_arrival_time_minutes_loop = list(new_check['Shipment_arrival_time_minutes'].unique())[0]\n",
    "#     shipment_arrival_duation_minutes_loop = list(new_check['one_hour_duration'].unique())[0] #list(new_check['Shipment_duration_minutes'].unique())[0]\n",
    "#     arrival_time_each_uld = list(new_check['Shipment_arrival_time_minutes'].unique())[0]\n",
    "#     transport_time_each_bd_zone = list(new_check['m'].unique())\n",
    "#     model.addConstr(quicksum(c*x[i,b,c] for b in BreakDownZoneName_list for c in range(shipment_arrival_time_minutes_loop, shipment_arrival_time_minutes_loop+shipment_arrival_duation_minutes_loop)) <= t_max)"
   ]
  },
  {
   "cell_type": "code",
   "execution_count": null,
   "metadata": {},
   "outputs": [],
   "source": [
    "model.optimize()"
   ]
  },
  {
   "cell_type": "code",
   "execution_count": null,
   "metadata": {
    "scrolled": true
   },
   "outputs": [],
   "source": [
    "for i in ArrivalULDNumber_list:\n",
    "    for j in BreakDownZoneName_list:\n",
    "        #print(int(i),str(j))\n",
    "        new_check = df_merge1[(df_merge1.ArrivalULDNumber==i) & (df_merge1.BreakDownZoneName==j)]\n",
    "        shipment_arrival_time_minutes_loop = list(new_check['Shipment_arrival_time_minutes'].unique())[0]\n",
    "        shipment_arrival_duation_minutes_loop = list(new_check['one_hour_duration'].unique())[0] #list(new_check['Shipment_duration_minutes'].unique())[0]\n",
    "        for k in range(shipment_arrival_duation_minutes_loop):\n",
    "            t = model.addVar(obj=(shipment_arrival_time_minutes_loop+k+1), vtype=GRB.BASIC)"
   ]
  },
  {
   "cell_type": "code",
   "execution_count": null,
   "metadata": {},
   "outputs": [],
   "source": [
    "df_merge1"
   ]
  },
  {
   "cell_type": "code",
   "execution_count": null,
   "metadata": {},
   "outputs": [],
   "source": [
    "for i in ArrivalULDNumber_list:\n",
    "    for j in BreakDownZoneName_list:\n",
    "        #print(int(i),str(j))\n",
    "        new_check = df_merge1[(df_merge1.ArrivalULDNumber==i) & (df_merge1.BreakDownZoneName==j)]\n",
    "        shipment_arrival_time_minutes_loop = list(new_check['Shipment_arrival_time_minutes'].unique())[0]\n",
    "        shipment_arrival_duation_minutes_loop = list(new_check['one_hour_duration'].unique())[0] #list(new_check['Shipment_duration_minutes'].unique())[0]\n",
    "        model.addConstr(quicksum(x[i,b,c] for b in BreakDownZoneName_list for c in range(shipment_arrival_time_minutes_loop+1, shipment_arrival_time_minutes_loop+shipment_arrival_duation_minutes_loop+1)) == 1)"
   ]
  },
  {
   "cell_type": "code",
   "execution_count": null,
   "metadata": {},
   "outputs": [],
   "source": []
  },
  {
   "cell_type": "code",
   "execution_count": null,
   "metadata": {},
   "outputs": [],
   "source": []
  },
  {
   "cell_type": "code",
   "execution_count": null,
   "metadata": {},
   "outputs": [],
   "source": []
  },
  {
   "cell_type": "code",
   "execution_count": null,
   "metadata": {},
   "outputs": [],
   "source": []
  },
  {
   "cell_type": "code",
   "execution_count": null,
   "metadata": {},
   "outputs": [],
   "source": [
    "max(t_max)"
   ]
  },
  {
   "cell_type": "code",
   "execution_count": null,
   "metadata": {},
   "outputs": [],
   "source": []
  },
  {
   "cell_type": "code",
   "execution_count": null,
   "metadata": {},
   "outputs": [],
   "source": [
    "#obj = t_max\n",
    "#model.setObjective(obj, GRB.MINIMIZE)"
   ]
  },
  {
   "cell_type": "code",
   "execution_count": null,
   "metadata": {},
   "outputs": [],
   "source": [
    "model.optimize()"
   ]
  },
  {
   "cell_type": "code",
   "execution_count": null,
   "metadata": {},
   "outputs": [],
   "source": [
    "#x[21231, 'B BD NRML-1', 25671251].x\n",
    "#df_merge1[df_merge1.ArrivalULDNumber == 76631]"
   ]
  },
  {
   "cell_type": "code",
   "execution_count": null,
   "metadata": {},
   "outputs": [],
   "source": [
    "obj = x.sum()\n",
    "model.setObjective(obj, GRB.MINIMIZE)"
   ]
  },
  {
   "cell_type": "code",
   "execution_count": null,
   "metadata": {},
   "outputs": [],
   "source": [
    "model.optimize()"
   ]
  },
  {
   "cell_type": "code",
   "execution_count": null,
   "metadata": {
    "scrolled": true
   },
   "outputs": [],
   "source": [
    "for i in ArrivalULDNumber_list:\n",
    "    for j in BreakDownZoneName_list:\n",
    "        #print(int(i),str(j))\n",
    "        new_check = df_merge1[(df_merge1.ArrivalULDNumber==i) & (df_merge1.BreakDownZoneName==j)]\n",
    "        shipment_arrival_time_minutes_loop = list(new_check['Shipment_arrival_time_minutes'].unique())[0]\n",
    "        shipment_arrival_duation_minutes_loop = list(new_check['one_hour_duration'].unique())[0] #list(new_check['Shipment_duration_minutes'].unique())[0]\n",
    "        for k in range(shipment_arrival_duation_minutes_loop):\n",
    "            if(x[i,j,(shipment_arrival_time_minutes_loop+k+1)].x>0.5):\n",
    "                print(i, \"assigned to\", j, k)# todo"
   ]
  },
  {
   "cell_type": "code",
   "execution_count": null,
   "metadata": {},
   "outputs": [],
   "source": [
    "model.write(\"bd_model.lp\")"
   ]
  },
  {
   "cell_type": "code",
   "execution_count": null,
   "metadata": {},
   "outputs": [],
   "source": [
    "import os\n",
    "cwd = os.getcwd()"
   ]
  },
  {
   "cell_type": "code",
   "execution_count": null,
   "metadata": {},
   "outputs": [],
   "source": [
    "cwd"
   ]
  },
  {
   "cell_type": "code",
   "execution_count": null,
   "metadata": {
    "scrolled": true
   },
   "outputs": [],
   "source": [
    "for i in ArrivalULDNumber_list:\n",
    "    for j in BreakDownZoneName_list:\n",
    "        #print(int(i),str(j))\n",
    "        new_check = df_merge1[(df_merge1.ArrivalULDNumber==i) & (df_merge1.BreakDownZoneName==j)]\n",
    "        shipment_arrival_time_minutes_loop = list(new_check['Shipment_arrival_time_minutes'].unique())[0]\n",
    "        shipment_arrival_duation_minutes_loop = list(new_check['one_hour_duration'].unique())[0] #list(new_check['Shipment_duration_minutes'].unique())[0]\n",
    "        for k in range(shipment_arrival_duation_minutes_loop):\n",
    "            if x[i,j,(shipment_arrival_time_minutes_loop+k)].x > 0.5:\n",
    "                print(k)\n",
    "                print(\"DZ\", i, \"assigned to BD\", j, \"at\", (shipment_arrival_time_minutes_loop+k))\n",
    "# for i in drop_zones:\n",
    "#     for j in break_down_zones:\n",
    "#         if x[i,j].x > 0.5:\n",
    "#             print(\"DZ\", i, \"assigned to BD\", j)# todo"
   ]
  },
  {
   "cell_type": "code",
   "execution_count": null,
   "metadata": {},
   "outputs": [],
   "source": [
    "df_merge1[df_merge1.BreakDownZoneName=='BD NRML-1'].iloc[0]['m']"
   ]
  },
  {
   "cell_type": "code",
   "execution_count": 75,
   "metadata": {},
   "outputs": [
    {
     "data": {
      "text/plain": [
       "[1, 3, 5]"
      ]
     },
     "execution_count": 75,
     "metadata": {},
     "output_type": "execute_result"
    }
   ],
   "source": [
    "list(range(1, 7, 2))"
   ]
  }
 ],
 "metadata": {
  "kernelspec": {
   "display_name": "Python 3",
   "language": "python",
   "name": "python3"
  },
  "language_info": {
   "codemirror_mode": {
    "name": "ipython",
    "version": 3
   },
   "file_extension": ".py",
   "mimetype": "text/x-python",
   "name": "python",
   "nbconvert_exporter": "python",
   "pygments_lexer": "ipython3",
   "version": "3.7.1"
  }
 },
 "nbformat": 4,
 "nbformat_minor": 2
}
