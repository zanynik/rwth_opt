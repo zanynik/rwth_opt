{
 "cells": [
  {
   "cell_type": "code",
   "execution_count": 1,
   "metadata": {},
   "outputs": [],
   "source": [
    "import pandas as pd\n",
    "from gurobi import *\n",
    "import matplotlib.pyplot as plt\n",
    "import math\n",
    "import numpy as np"
   ]
  },
  {
   "cell_type": "code",
   "execution_count": 2,
   "metadata": {},
   "outputs": [],
   "source": [
    "booking = pd.read_excel(\"/media/luckshan/New Volume/AirCargo/Ab-Ovo Project/Ab Ovo Data/Booking_new.xlsx\")\n",
    "bd_zones = pd.read_excel(\"/media/luckshan/New Volume/AirCargo/Ab-Ovo Project/Ab Ovo Data/BreakDownZones.xlsx\")\n",
    "dz_to_bd = pd.read_excel(\"/media/luckshan/New Volume/AirCargo/Ab-Ovo Project/Ab Ovo Data/DistanceMatrixDropZoneToBreakDownZone.xlsx\")\n",
    "drop_zones = pd.read_excel(\"/media/luckshan/New Volume/AirCargo/Ab-Ovo Project/Ab Ovo Data/DropZones.xlsx\")\n",
    "bu_zones = pd.read_excel(\"/media/luckshan/New Volume/AirCargo/Ab-Ovo Project/Ab Ovo Data/Outbound.xlsx\", sheet_name='BU Zones')\n",
    "bu_zones_workstations = pd.read_excel(\"/media/luckshan/New Volume/AirCargo/Ab-Ovo Project/Ab Ovo Data/Outbound.xlsx\", sheet_name='WorkStation')\n",
    "bu_zones_to_flight = pd.read_excel(\"/media/luckshan/New Volume/AirCargo/Ab-Ovo Project/Ab Ovo Data/Outbound.xlsx\", sheet_name='FlightNumber-BUZone')\n",
    "flight_default_processing = pd.read_excel(\"/media/luckshan/New Volume/AirCargo/Ab-Ovo Project/Ab Ovo Data/Outbound.xlsx\", sheet_name='DefaultProcessingTime')\n",
    "flight_pre_processing = pd.read_excel(\"/media/luckshan/New Volume/AirCargo/Ab-Ovo Project/Ab Ovo Data/Outbound.xlsx\", sheet_name='Pre-ProcessingBufferTime')"
   ]
  },
  {
   "cell_type": "code",
   "execution_count": 3,
   "metadata": {},
   "outputs": [],
   "source": [
    "dz = list(drop_zones['Name'].unique())\n",
    "break_down_zones = list(bd_zones['Name'].unique())"
   ]
  },
  {
   "cell_type": "code",
   "execution_count": 4,
   "metadata": {},
   "outputs": [],
   "source": [
    "dz_to_bd[['h','m','s']] = pd.DataFrame([(x.hour, x.minute, x.second) for x in dz_to_bd['TransportDuration']])"
   ]
  },
  {
   "cell_type": "code",
   "execution_count": 5,
   "metadata": {},
   "outputs": [],
   "source": [
    "bd_zones[['handling_h','handling_m','handling_s']] = pd.DataFrame([(x.hour, x.minute, x.second) for x in bd_zones['HandlingTimePerULD']])\n",
    "bd_zones[['transport_WH_h','transport_WH_m','transport_WH_s']] = pd.DataFrame([(x.hour, x.minute, x.second) for x in bd_zones['TransportationTimeToWH']])"
   ]
  },
  {
   "cell_type": "code",
   "execution_count": 6,
   "metadata": {},
   "outputs": [
    {
     "data": {
      "text/plain": [
       "Index(['Shipment ID', 'FlightDate', 'ShipmentArrivalDateUTC', 'ProductName',\n",
       "       'ShipmentOrigin', 'ShipmentDestination', 'CarrierCode', 'Priority',\n",
       "       'DropZone', 'FlightNumberArrival', 'SerialNumber', 'ArrivalULDNumber',\n",
       "       'Pieces', 'Weight', 'Volume', 'BookingStatus', 'WeighCMMit',\n",
       "       'VolumeUnit', 'TotalVolume', 'TotalWeight', 'TotalNumberOfPieces',\n",
       "       'FlightNumberDeparture', 'ShipmentDepartureDateUTC'],\n",
       "      dtype='object')"
      ]
     },
     "execution_count": 6,
     "metadata": {},
     "output_type": "execute_result"
    }
   ],
   "source": [
    "booking.columns"
   ]
  },
  {
   "cell_type": "code",
   "execution_count": 7,
   "metadata": {},
   "outputs": [],
   "source": [
    "booking['Shipment_arrival_date_time'] = pd.to_datetime(booking['ShipmentArrivalDateUTC'])\n",
    "booking = booking[booking.ShipmentDepartureDateUTC != '2018-10-24T26:20:00']\n",
    "booking['Shipment_departure_date_time'] = pd.to_datetime(booking['ShipmentDepartureDateUTC'])\n",
    "booking['Shipment_duration'] = booking['Shipment_departure_date_time']-booking['Shipment_arrival_date_time']\n",
    "booking = booking[booking.Shipment_duration>pd.Timedelta(0)]"
   ]
  },
  {
   "cell_type": "code",
   "execution_count": 8,
   "metadata": {},
   "outputs": [
    {
     "data": {
      "text/plain": [
       "(1728, 13)"
      ]
     },
     "execution_count": 8,
     "metadata": {},
     "output_type": "execute_result"
    }
   ],
   "source": [
    "dz_ship_data = booking[['DropZone','ArrivalULDNumber']]\n",
    "uld_bd_data = pd.merge(dz_ship_data, dz_to_bd, left_on='DropZone', right_on='DropZoneName')\n",
    "uld_bd_data['key'] = uld_bd_data['ArrivalULDNumber'].astype(str) + '_' + uld_bd_data['BreakDownZoneName']\n",
    "uld_bd_data['dz_type'] =  uld_bd_data['DropZone'].apply(lambda x: x.split('-')[0]).str[3:]\n",
    "uld_bd_data['bd_type1'] = uld_bd_data['BreakDownZoneName'].apply(lambda x: x.split(' ')[1])\n",
    "uld_bd_data.loc[uld_bd_data['bd_type1'] == 'BD', 'bd_type1'] = \"NRML-1\"\n",
    "uld_bd_data['bd_type'] =  uld_bd_data['bd_type1'].apply(lambda x: x.split('-')[0])\n",
    "uld_bd_data['key_for_type'] = uld_bd_data.apply(lambda x: '1' if x['dz_type'] == x['bd_type'] else '0', axis=1)\n",
    "uld_bd_data = uld_bd_data[(uld_bd_data.key_for_type == '1') & (uld_bd_data.dz_type == 'NRML')]\n",
    "uld_bd_data = uld_bd_data.drop_duplicates('key')\n",
    "uld_bd_data.shape"
   ]
  },
  {
   "cell_type": "code",
   "execution_count": 9,
   "metadata": {},
   "outputs": [],
   "source": [
    "uld_to_bd_times = tupledict(pd.Series(uld_bd_data.m.values,index=[uld_bd_data.ArrivalULDNumber, uld_bd_data.BreakDownZoneName]).to_dict())"
   ]
  },
  {
   "cell_type": "code",
   "execution_count": 10,
   "metadata": {},
   "outputs": [],
   "source": [
    "booking['build_up_arrival_time'] =  booking['Shipment_arrival_date_time'] #+ np.timedelta64(2, 'h')\n",
    "booking['build_up_finish_time'] =  booking['Shipment_departure_date_time'] #- np.timedelta64(1, 'h')\n",
    "booking_new = booking[['ProductName', 'Priority', 'DropZone', 'ArrivalULDNumber', 'Pieces', 'Weight', 'TotalWeight',\n",
    "         'FlightNumberDeparture', 'Shipment_arrival_date_time', 'Shipment_departure_date_time',\n",
    "         'Shipment_duration', 'build_up_arrival_time', 'build_up_finish_time']]"
   ]
  },
  {
   "cell_type": "code",
   "execution_count": 11,
   "metadata": {},
   "outputs": [],
   "source": [
    "booking_new = pd.merge(booking_new, bu_zones_to_flight, left_on='FlightNumberDeparture', right_on='FlightNumber')\n",
    "booking_new = pd.merge(booking_new, bu_zones, left_on='BU Zone', right_on='Name')"
   ]
  },
  {
   "cell_type": "code",
   "execution_count": 26,
   "metadata": {},
   "outputs": [
    {
     "data": {
      "text/plain": [
       "array([3, 4, 1, 2, 5, 6, 7, 9, 8, 13, 10, 11, 12, 14, 46, 43, 42, 40, 44,\n",
       "       45, 48, 47, 41, 49, 50, 60, 61, 62, 63, 64, 65, 66, 67, 68, 69, 70,\n",
       "       59, 71, 72, 73, 74, 75, 76, 77, 78, 79, 82, 81, 80, 25, 15, 16, 18,\n",
       "       21, 22, 26, 28, 27, 23, 17, 19, 20, 24, 29, 34, 31, 32, 36, 33, 35,\n",
       "       30, 38, 37, 39, 54, 57, 55, 52, 56, 58, 53, 51], dtype=object)"
      ]
     },
     "execution_count": 26,
     "metadata": {},
     "output_type": "execute_result"
    }
   ],
   "source": [
    "booking_new['FlightNumberDeparture'].unique()"
   ]
  },
  {
   "cell_type": "code",
   "execution_count": 12,
   "metadata": {},
   "outputs": [],
   "source": [
    "bu_workstation_count = bu_zones_workstations.groupby(['Name']).count().reset_index()\n",
    "bu_workstation_count.columns = ['Name', 'Count']\n",
    "bd_zone_all = pd.merge(bu_zones, bu_workstation_count, left_on='Name', right_on='Name')"
   ]
  },
  {
   "cell_type": "code",
   "execution_count": 13,
   "metadata": {},
   "outputs": [],
   "source": [
    "bd_zone_all = pd.merge(bd_zone_all, bu_zones_to_flight, left_on='Name', right_on='BU Zone')\n",
    "booking_new = pd.merge(booking_new, bd_zone_all, left_on='FlightNumberDeparture', right_on='FlightNumber')"
   ]
  },
  {
   "cell_type": "code",
   "execution_count": 14,
   "metadata": {},
   "outputs": [],
   "source": [
    "booking_new[['ULD_handling_h','ULD_handling_m','ULD_handling_s']] = pd.DataFrame([(x.hour, x.minute, x.second) for x in booking_new['HandlingTimePerULD_x']])"
   ]
  },
  {
   "cell_type": "code",
   "execution_count": 15,
   "metadata": {},
   "outputs": [],
   "source": [
    "booking_new['arrival_date'] = booking_new['Shipment_arrival_date_time'].dt.normalize()\n",
    "booking_new['departure_date'] = booking_new['Shipment_departure_date_time'].dt.normalize()"
   ]
  },
  {
   "cell_type": "code",
   "execution_count": 16,
   "metadata": {},
   "outputs": [],
   "source": [
    "##########################################################\n",
    "##########################################################\n",
    "##########################################################"
   ]
  },
  {
   "cell_type": "code",
   "execution_count": 16,
   "metadata": {},
   "outputs": [],
   "source": [
    "sample_shipments = booking_new.iloc[0:1,:]"
   ]
  },
  {
   "cell_type": "code",
   "execution_count": 46,
   "metadata": {},
   "outputs": [
    {
     "data": {
      "text/html": [
       "<div>\n",
       "<style scoped>\n",
       "    .dataframe tbody tr th:only-of-type {\n",
       "        vertical-align: middle;\n",
       "    }\n",
       "\n",
       "    .dataframe tbody tr th {\n",
       "        vertical-align: top;\n",
       "    }\n",
       "\n",
       "    .dataframe thead th {\n",
       "        text-align: right;\n",
       "    }\n",
       "</style>\n",
       "<table border=\"1\" class=\"dataframe\">\n",
       "  <thead>\n",
       "    <tr style=\"text-align: right;\">\n",
       "      <th></th>\n",
       "      <th>ProductName</th>\n",
       "      <th>Priority</th>\n",
       "      <th>DropZone</th>\n",
       "      <th>ArrivalULDNumber</th>\n",
       "      <th>Pieces</th>\n",
       "      <th>Weight</th>\n",
       "      <th>TotalWeight</th>\n",
       "      <th>FlightNumberDeparture</th>\n",
       "      <th>Shipment_arrival_date_time</th>\n",
       "      <th>Shipment_departure_date_time</th>\n",
       "      <th>...</th>\n",
       "      <th>FlightNumber_y</th>\n",
       "      <th>BU Zone_y</th>\n",
       "      <th>TransportationDistance_y</th>\n",
       "      <th>ULD_handling_h</th>\n",
       "      <th>ULD_handling_m</th>\n",
       "      <th>ULD_handling_s</th>\n",
       "      <th>arrival_date</th>\n",
       "      <th>departure_date</th>\n",
       "      <th>Shipment_duration_minutes</th>\n",
       "      <th>Shipment_arrival_time_minutes</th>\n",
       "    </tr>\n",
       "  </thead>\n",
       "  <tbody>\n",
       "    <tr>\n",
       "      <th>0</th>\n",
       "      <td>NRML</td>\n",
       "      <td>False</td>\n",
       "      <td>DZ NRML-2</td>\n",
       "      <td>21231</td>\n",
       "      <td>1</td>\n",
       "      <td>26.2</td>\n",
       "      <td>26.2</td>\n",
       "      <td>3</td>\n",
       "      <td>2018-10-23 06:10:00</td>\n",
       "      <td>2018-10-25 05:15:00</td>\n",
       "      <td>...</td>\n",
       "      <td>3</td>\n",
       "      <td>BU FT-1</td>\n",
       "      <td>00:19:00</td>\n",
       "      <td>0</td>\n",
       "      <td>24</td>\n",
       "      <td>0</td>\n",
       "      <td>2018-10-23</td>\n",
       "      <td>2018-10-25</td>\n",
       "      <td>2825</td>\n",
       "      <td>25671250</td>\n",
       "    </tr>\n",
       "  </tbody>\n",
       "</table>\n",
       "<p>1 rows × 33 columns</p>\n",
       "</div>"
      ],
      "text/plain": [
       "  ProductName  Priority   DropZone  ArrivalULDNumber  Pieces  Weight  \\\n",
       "0        NRML     False  DZ NRML-2             21231       1    26.2   \n",
       "\n",
       "   TotalWeight FlightNumberDeparture Shipment_arrival_date_time  \\\n",
       "0         26.2                     3        2018-10-23 06:10:00   \n",
       "\n",
       "  Shipment_departure_date_time  ... FlightNumber_y BU Zone_y  \\\n",
       "0          2018-10-25 05:15:00  ...              3   BU FT-1   \n",
       "\n",
       "  TransportationDistance_y  ULD_handling_h ULD_handling_m ULD_handling_s  \\\n",
       "0                 00:19:00               0             24              0   \n",
       "\n",
       "  arrival_date departure_date Shipment_duration_minutes  \\\n",
       "0   2018-10-23     2018-10-25                      2825   \n",
       "\n",
       "  Shipment_arrival_time_minutes  \n",
       "0                      25671250  \n",
       "\n",
       "[1 rows x 33 columns]"
      ]
     },
     "execution_count": 46,
     "metadata": {},
     "output_type": "execute_result"
    }
   ],
   "source": [
    "sample_shipments"
   ]
  },
  {
   "cell_type": "code",
   "execution_count": 17,
   "metadata": {},
   "outputs": [
    {
     "name": "stderr",
     "output_type": "stream",
     "text": [
      "/home/luckshan/anaconda3/lib/python3.6/site-packages/ipykernel_launcher.py:1: SettingWithCopyWarning: \n",
      "A value is trying to be set on a copy of a slice from a DataFrame.\n",
      "Try using .loc[row_indexer,col_indexer] = value instead\n",
      "\n",
      "See the caveats in the documentation: http://pandas.pydata.org/pandas-docs/stable/indexing.html#indexing-view-versus-copy\n",
      "  \"\"\"Entry point for launching an IPython kernel.\n",
      "/home/luckshan/anaconda3/lib/python3.6/site-packages/ipykernel_launcher.py:2: FutureWarning: Passing datetime64-dtype data to TimedeltaIndex is deprecated, will raise a TypeError in a future version\n",
      "  \n",
      "/home/luckshan/anaconda3/lib/python3.6/site-packages/ipykernel_launcher.py:2: SettingWithCopyWarning: \n",
      "A value is trying to be set on a copy of a slice from a DataFrame.\n",
      "Try using .loc[row_indexer,col_indexer] = value instead\n",
      "\n",
      "See the caveats in the documentation: http://pandas.pydata.org/pandas-docs/stable/indexing.html#indexing-view-versus-copy\n",
      "  \n"
     ]
    }
   ],
   "source": [
    "sample_shipments['Shipment_duration_minutes'] = (sample_shipments['Shipment_duration'] / np.timedelta64(1, 'm')).astype(int)\n",
    "sample_shipments['Shipment_arrival_time_minutes'] = pd.to_timedelta(sample_shipments['Shipment_arrival_date_time']).astype('timedelta64[m]').astype(int)"
   ]
  },
  {
   "cell_type": "code",
   "execution_count": 18,
   "metadata": {
    "scrolled": true
   },
   "outputs": [
    {
     "data": {
      "text/html": [
       "<div>\n",
       "<style scoped>\n",
       "    .dataframe tbody tr th:only-of-type {\n",
       "        vertical-align: middle;\n",
       "    }\n",
       "\n",
       "    .dataframe tbody tr th {\n",
       "        vertical-align: top;\n",
       "    }\n",
       "\n",
       "    .dataframe thead th {\n",
       "        text-align: right;\n",
       "    }\n",
       "</style>\n",
       "<table border=\"1\" class=\"dataframe\">\n",
       "  <thead>\n",
       "    <tr style=\"text-align: right;\">\n",
       "      <th></th>\n",
       "      <th>Description</th>\n",
       "      <th>Name</th>\n",
       "      <th>NumberOfWorkstations</th>\n",
       "      <th>SequenceNumber</th>\n",
       "      <th>TransportationTimeToWH</th>\n",
       "      <th>TargetProcessName</th>\n",
       "      <th>HandlingTimePerULD</th>\n",
       "      <th>handling_h</th>\n",
       "      <th>handling_m</th>\n",
       "      <th>handling_s</th>\n",
       "      <th>transport_WH_h</th>\n",
       "      <th>transport_WH_m</th>\n",
       "      <th>transport_WH_s</th>\n",
       "    </tr>\n",
       "  </thead>\n",
       "  <tbody>\n",
       "    <tr>\n",
       "      <th>0</th>\n",
       "      <td>the biggest BD zone for normal ULDs</td>\n",
       "      <td>B BD NRML-1</td>\n",
       "      <td>33</td>\n",
       "      <td>1</td>\n",
       "      <td>00:30:00</td>\n",
       "      <td>NORMAL</td>\n",
       "      <td>00:24:00</td>\n",
       "      <td>0</td>\n",
       "      <td>24</td>\n",
       "      <td>0</td>\n",
       "      <td>0</td>\n",
       "      <td>30</td>\n",
       "      <td>0</td>\n",
       "    </tr>\n",
       "    <tr>\n",
       "      <th>1</th>\n",
       "      <td>the 2nd biggest BD zone for normal ULDs</td>\n",
       "      <td>B BD NRML-2</td>\n",
       "      <td>10</td>\n",
       "      <td>2</td>\n",
       "      <td>00:25:00</td>\n",
       "      <td>NORMAL</td>\n",
       "      <td>00:24:00</td>\n",
       "      <td>0</td>\n",
       "      <td>24</td>\n",
       "      <td>0</td>\n",
       "      <td>0</td>\n",
       "      <td>25</td>\n",
       "      <td>0</td>\n",
       "    </tr>\n",
       "    <tr>\n",
       "      <th>2</th>\n",
       "      <td>an animal BD zone</td>\n",
       "      <td>BD NML-1</td>\n",
       "      <td>4</td>\n",
       "      <td>3</td>\n",
       "      <td>00:40:00</td>\n",
       "      <td>ANIMAL</td>\n",
       "      <td>00:13:00</td>\n",
       "      <td>0</td>\n",
       "      <td>13</td>\n",
       "      <td>0</td>\n",
       "      <td>0</td>\n",
       "      <td>40</td>\n",
       "      <td>0</td>\n",
       "    </tr>\n",
       "    <tr>\n",
       "      <th>3</th>\n",
       "      <td>the biggest BD zone for ULDs that have to be c...</td>\n",
       "      <td>BD CLD-1</td>\n",
       "      <td>8</td>\n",
       "      <td>4</td>\n",
       "      <td>00:30:00</td>\n",
       "      <td>COOLED</td>\n",
       "      <td>00:17:00</td>\n",
       "      <td>0</td>\n",
       "      <td>17</td>\n",
       "      <td>0</td>\n",
       "      <td>0</td>\n",
       "      <td>30</td>\n",
       "      <td>0</td>\n",
       "    </tr>\n",
       "    <tr>\n",
       "      <th>4</th>\n",
       "      <td>a normal BD zone</td>\n",
       "      <td>BD NRML-1</td>\n",
       "      <td>5</td>\n",
       "      <td>5</td>\n",
       "      <td>00:30:00</td>\n",
       "      <td>NORMAL</td>\n",
       "      <td>00:20:00</td>\n",
       "      <td>0</td>\n",
       "      <td>20</td>\n",
       "      <td>0</td>\n",
       "      <td>0</td>\n",
       "      <td>30</td>\n",
       "      <td>0</td>\n",
       "    </tr>\n",
       "  </tbody>\n",
       "</table>\n",
       "</div>"
      ],
      "text/plain": [
       "                                         Description         Name  \\\n",
       "0                the biggest BD zone for normal ULDs  B BD NRML-1   \n",
       "1            the 2nd biggest BD zone for normal ULDs  B BD NRML-2   \n",
       "2                                  an animal BD zone     BD NML-1   \n",
       "3  the biggest BD zone for ULDs that have to be c...     BD CLD-1   \n",
       "4                                   a normal BD zone    BD NRML-1   \n",
       "\n",
       "   NumberOfWorkstations  SequenceNumber TransportationTimeToWH  \\\n",
       "0                    33               1               00:30:00   \n",
       "1                    10               2               00:25:00   \n",
       "2                     4               3               00:40:00   \n",
       "3                     8               4               00:30:00   \n",
       "4                     5               5               00:30:00   \n",
       "\n",
       "  TargetProcessName HandlingTimePerULD  handling_h  handling_m  handling_s  \\\n",
       "0            NORMAL           00:24:00           0          24           0   \n",
       "1            NORMAL           00:24:00           0          24           0   \n",
       "2            ANIMAL           00:13:00           0          13           0   \n",
       "3            COOLED           00:17:00           0          17           0   \n",
       "4            NORMAL           00:20:00           0          20           0   \n",
       "\n",
       "   transport_WH_h  transport_WH_m  transport_WH_s  \n",
       "0               0              30               0  \n",
       "1               0              25               0  \n",
       "2               0              40               0  \n",
       "3               0              30               0  \n",
       "4               0              30               0  "
      ]
     },
     "execution_count": 18,
     "metadata": {},
     "output_type": "execute_result"
    }
   ],
   "source": [
    "bd_zones.head()"
   ]
  },
  {
   "cell_type": "code",
   "execution_count": 48,
   "metadata": {},
   "outputs": [
    {
     "data": {
      "text/plain": [
       "<bound method Series.unique of 0     B BD NRML-1\n",
       "1     B BD NRML-2\n",
       "2        BD NML-1\n",
       "3        BD CLD-1\n",
       "4       BD NRML-1\n",
       "5        BD NML-2\n",
       "6       BD NRML-2\n",
       "7       BD NRML-3\n",
       "8        BD CLD-2\n",
       "9        BD NML-3\n",
       "10      BD NRML-4\n",
       "11       BD CLD-4\n",
       "Name: Name, dtype: object>"
      ]
     },
     "execution_count": 48,
     "metadata": {},
     "output_type": "execute_result"
    }
   ],
   "source": [
    "bd_zones['Name'].unique"
   ]
  },
  {
   "cell_type": "code",
   "execution_count": 19,
   "metadata": {},
   "outputs": [],
   "source": [
    "new = sample_shipments[['ArrivalULDNumber', 'Shipment_duration_minutes','Shipment_arrival_time_minutes']]\n",
    "df_merge= pd.merge(uld_bd_data, new, on='ArrivalULDNumber')\n",
    "df_merge = df_merge.drop_duplicates('key')\n",
    "bd_capacity = bd_zones[['Name','NumberOfWorkstations', 'handling_m']]\n",
    "df_merge1 = df_merge.merge(bd_capacity, left_on='BreakDownZoneName', right_on='Name')"
   ]
  },
  {
   "cell_type": "code",
   "execution_count": 50,
   "metadata": {},
   "outputs": [
    {
     "data": {
      "text/plain": [
       "<bound method Series.unique of 0    B BD NRML-1\n",
       "1    B BD NRML-2\n",
       "2      BD NRML-1\n",
       "3      BD NRML-2\n",
       "4      BD NRML-3\n",
       "5      BD NRML-4\n",
       "Name: BreakDownZoneName, dtype: object>"
      ]
     },
     "execution_count": 50,
     "metadata": {},
     "output_type": "execute_result"
    }
   ],
   "source": [
    "df_merge1['BreakDownZoneName'].unique"
   ]
  },
  {
   "cell_type": "code",
   "execution_count": 20,
   "metadata": {},
   "outputs": [
    {
     "data": {
      "text/plain": [
       "(6, 15)"
      ]
     },
     "execution_count": 20,
     "metadata": {},
     "output_type": "execute_result"
    }
   ],
   "source": [
    "df_merge.shape"
   ]
  },
  {
   "cell_type": "code",
   "execution_count": 21,
   "metadata": {},
   "outputs": [],
   "source": [
    "df_merge1['one_hour_duration'] = 60"
   ]
  },
  {
   "cell_type": "code",
   "execution_count": 22,
   "metadata": {},
   "outputs": [],
   "source": [
    "ArrivalULDNumber_list = list(df_merge1['ArrivalULDNumber'].unique())\n",
    "BreakDownZoneName_list = list(df_merge1['BreakDownZoneName'].unique())"
   ]
  },
  {
   "cell_type": "code",
   "execution_count": 93,
   "metadata": {},
   "outputs": [],
   "source": [
    "model = Model('BD zone model')"
   ]
  },
  {
   "cell_type": "code",
   "execution_count": 94,
   "metadata": {},
   "outputs": [],
   "source": [
    "x = {}\n",
    "for i in ArrivalULDNumber_list:\n",
    "    for j in BreakDownZoneName_list:\n",
    "        #print(int(i),str(j))\n",
    "        new_check = df_merge1[(df_merge1.ArrivalULDNumber==i) & (df_merge1.BreakDownZoneName==j)]\n",
    "        shipment_arrival_time_minutes_loop = list(new_check['Shipment_arrival_time_minutes'].unique())[0]\n",
    "        shipment_arrival_duation_minutes_loop = list(new_check['one_hour_duration'].unique())[0] #list(new_check['Shipment_duration_minutes'].unique())[0]\n",
    "        for k in range(shipment_arrival_duation_minutes_loop):\n",
    "            x[i,j,(shipment_arrival_time_minutes_loop+k+1)] = model.addVar(vtype=GRB.BINARY)"
   ]
  },
  {
   "cell_type": "code",
   "execution_count": 95,
   "metadata": {},
   "outputs": [],
   "source": [
    "for i in ArrivalULDNumber_list:\n",
    "    new_check = df_merge1[(df_merge1.ArrivalULDNumber==i)]\n",
    "    shipment_arrival_time_minutes_loop = list(new_check['Shipment_arrival_time_minutes'].unique())[0]\n",
    "    shipment_arrival_duation_minutes_loop = list(new_check['one_hour_duration'].unique())[0] #list(new_check['Shipment_duration_minutes'].unique())[0]\n",
    "    model.addConstr(quicksum(x[i,b,c] for b in BreakDownZoneName_list for c in range(shipment_arrival_time_minutes_loop+1, shipment_arrival_time_minutes_loop+shipment_arrival_duation_minutes_loop+1)) == 1)"
   ]
  },
  {
   "cell_type": "code",
   "execution_count": 96,
   "metadata": {},
   "outputs": [],
   "source": [
    "for i in ArrivalULDNumber_list:\n",
    "    for j in BreakDownZoneName_list:\n",
    "        #print(int(i),str(j))\n",
    "        new_check = df_merge1[(df_merge1.ArrivalULDNumber==i) & (df_merge1.BreakDownZoneName==j)]\n",
    "        shipment_arrival_time_minutes_loop = list(new_check['Shipment_arrival_time_minutes'].unique())[0]\n",
    "        shipment_arrival_duation_minutes_loop = list(new_check['one_hour_duration'].unique())[0] #list(new_check['Shipment_duration_minutes'].unique())[0]\n",
    "        arrival_time_each_uld = list(new_check['Shipment_arrival_time_minutes'].unique())[0]\n",
    "        transport_time_each_bd_zone = list(new_check['m'].unique())[0]\n",
    "        #for k in range(shipment_arrival_duation_minutes_loop):\n",
    "        model.addConstr(quicksum(x[i,b,c] for b in BreakDownZoneName_list for c in range(shipment_arrival_time_minutes_loop+1, shipment_arrival_time_minutes_loop+shipment_arrival_duation_minutes_loop+1)) >= arrival_time_each_uld+transport_time_each_bd_zone)"
   ]
  },
  {
   "cell_type": "code",
   "execution_count": 98,
   "metadata": {},
   "outputs": [
    {
     "ename": "KeyError",
     "evalue": "(21231, 'B BD NRML-1', (25671251, 25671311))",
     "output_type": "error",
     "traceback": [
      "\u001b[0;31m---------------------------------------------------------------------------\u001b[0m",
      "\u001b[0;31mKeyError\u001b[0m                                  Traceback (most recent call last)",
      "\u001b[0;32m<ipython-input-98-985fcd1e319c>\u001b[0m in \u001b[0;36m<module>\u001b[0;34m\u001b[0m\n\u001b[1;32m      8\u001b[0m         \u001b[0mcap\u001b[0m \u001b[0;34m=\u001b[0m \u001b[0mlist\u001b[0m\u001b[0;34m(\u001b[0m\u001b[0mnew_check\u001b[0m\u001b[0;34m[\u001b[0m\u001b[0;34m'NumberOfWorkstations'\u001b[0m\u001b[0;34m]\u001b[0m\u001b[0;34m.\u001b[0m\u001b[0munique\u001b[0m\u001b[0;34m(\u001b[0m\u001b[0;34m)\u001b[0m\u001b[0;34m)\u001b[0m\u001b[0;34m[\u001b[0m\u001b[0;36m0\u001b[0m\u001b[0;34m]\u001b[0m\u001b[0;34m\u001b[0m\u001b[0;34m\u001b[0m\u001b[0m\n\u001b[1;32m      9\u001b[0m         \u001b[0;31m#for k in range(shipment_arrival_time_minutes_loop+1, shipment_arrival_time_minutes_loop+shipment_arrival_duation_minutes_loop+1):\u001b[0m\u001b[0;34m\u001b[0m\u001b[0;34m\u001b[0m\u001b[0;34m\u001b[0m\u001b[0m\n\u001b[0;32m---> 10\u001b[0;31m         \u001b[0mmodel\u001b[0m\u001b[0;34m.\u001b[0m\u001b[0maddConstr\u001b[0m\u001b[0;34m(\u001b[0m\u001b[0mcap\u001b[0m \u001b[0;34m-\u001b[0m \u001b[0mquicksum\u001b[0m\u001b[0;34m(\u001b[0m\u001b[0mx\u001b[0m\u001b[0;34m[\u001b[0m\u001b[0ma\u001b[0m\u001b[0;34m,\u001b[0m\u001b[0mj\u001b[0m\u001b[0;34m,\u001b[0m\u001b[0;34m(\u001b[0m\u001b[0mshipment_arrival_time_minutes_loop\u001b[0m\u001b[0;34m+\u001b[0m\u001b[0;36m1\u001b[0m\u001b[0;34m,\u001b[0m \u001b[0mshipment_arrival_time_minutes_loop\u001b[0m\u001b[0;34m+\u001b[0m\u001b[0mshipment_arrival_duation_minutes_loop\u001b[0m\u001b[0;34m+\u001b[0m\u001b[0;36m1\u001b[0m\u001b[0;34m)\u001b[0m\u001b[0;34m]\u001b[0m \u001b[0;32mfor\u001b[0m \u001b[0ma\u001b[0m \u001b[0;32min\u001b[0m \u001b[0mArrivalULDNumber_list\u001b[0m\u001b[0;34m)\u001b[0m \u001b[0;34m>=\u001b[0m \u001b[0mquicksum\u001b[0m\u001b[0;34m(\u001b[0m\u001b[0mx\u001b[0m\u001b[0;34m[\u001b[0m\u001b[0mp\u001b[0m\u001b[0;34m,\u001b[0m\u001b[0mj\u001b[0m\u001b[0;34m,\u001b[0m\u001b[0mr\u001b[0m\u001b[0;34m]\u001b[0m \u001b[0;32mfor\u001b[0m \u001b[0mp\u001b[0m \u001b[0;32min\u001b[0m \u001b[0mArrivalULDNumber_list\u001b[0m \u001b[0;32mfor\u001b[0m \u001b[0mr\u001b[0m \u001b[0;32min\u001b[0m \u001b[0mrange\u001b[0m\u001b[0;34m(\u001b[0m\u001b[0mshipment_arrival_time_minutes_loop\u001b[0m\u001b[0;34m+\u001b[0m\u001b[0;36m1\u001b[0m\u001b[0;34m,\u001b[0m \u001b[0mshipment_arrival_time_minutes_loop\u001b[0m\u001b[0;34m+\u001b[0m\u001b[0mhandling_minutes\u001b[0m\u001b[0;34m+\u001b[0m\u001b[0;36m1\u001b[0m\u001b[0;34m)\u001b[0m\u001b[0;34m)\u001b[0m\u001b[0;34m)\u001b[0m\u001b[0;34m\u001b[0m\u001b[0;34m\u001b[0m\u001b[0m\n\u001b[0m",
      "\u001b[0;32mgurobi.pxi\u001b[0m in \u001b[0;36mgurobipy.quicksum\u001b[0;34m()\u001b[0m\n",
      "\u001b[0;32m<ipython-input-98-985fcd1e319c>\u001b[0m in \u001b[0;36m<genexpr>\u001b[0;34m(.0)\u001b[0m\n\u001b[1;32m      8\u001b[0m         \u001b[0mcap\u001b[0m \u001b[0;34m=\u001b[0m \u001b[0mlist\u001b[0m\u001b[0;34m(\u001b[0m\u001b[0mnew_check\u001b[0m\u001b[0;34m[\u001b[0m\u001b[0;34m'NumberOfWorkstations'\u001b[0m\u001b[0;34m]\u001b[0m\u001b[0;34m.\u001b[0m\u001b[0munique\u001b[0m\u001b[0;34m(\u001b[0m\u001b[0;34m)\u001b[0m\u001b[0;34m)\u001b[0m\u001b[0;34m[\u001b[0m\u001b[0;36m0\u001b[0m\u001b[0;34m]\u001b[0m\u001b[0;34m\u001b[0m\u001b[0;34m\u001b[0m\u001b[0m\n\u001b[1;32m      9\u001b[0m         \u001b[0;31m#for k in range(shipment_arrival_time_minutes_loop+1, shipment_arrival_time_minutes_loop+shipment_arrival_duation_minutes_loop+1):\u001b[0m\u001b[0;34m\u001b[0m\u001b[0;34m\u001b[0m\u001b[0;34m\u001b[0m\u001b[0m\n\u001b[0;32m---> 10\u001b[0;31m         \u001b[0mmodel\u001b[0m\u001b[0;34m.\u001b[0m\u001b[0maddConstr\u001b[0m\u001b[0;34m(\u001b[0m\u001b[0mcap\u001b[0m \u001b[0;34m-\u001b[0m \u001b[0mquicksum\u001b[0m\u001b[0;34m(\u001b[0m\u001b[0mx\u001b[0m\u001b[0;34m[\u001b[0m\u001b[0ma\u001b[0m\u001b[0;34m,\u001b[0m\u001b[0mj\u001b[0m\u001b[0;34m,\u001b[0m\u001b[0;34m(\u001b[0m\u001b[0mshipment_arrival_time_minutes_loop\u001b[0m\u001b[0;34m+\u001b[0m\u001b[0;36m1\u001b[0m\u001b[0;34m,\u001b[0m \u001b[0mshipment_arrival_time_minutes_loop\u001b[0m\u001b[0;34m+\u001b[0m\u001b[0mshipment_arrival_duation_minutes_loop\u001b[0m\u001b[0;34m+\u001b[0m\u001b[0;36m1\u001b[0m\u001b[0;34m)\u001b[0m\u001b[0;34m]\u001b[0m \u001b[0;32mfor\u001b[0m \u001b[0ma\u001b[0m \u001b[0;32min\u001b[0m \u001b[0mArrivalULDNumber_list\u001b[0m\u001b[0;34m)\u001b[0m \u001b[0;34m>=\u001b[0m \u001b[0mquicksum\u001b[0m\u001b[0;34m(\u001b[0m\u001b[0mx\u001b[0m\u001b[0;34m[\u001b[0m\u001b[0mp\u001b[0m\u001b[0;34m,\u001b[0m\u001b[0mj\u001b[0m\u001b[0;34m,\u001b[0m\u001b[0mr\u001b[0m\u001b[0;34m]\u001b[0m \u001b[0;32mfor\u001b[0m \u001b[0mp\u001b[0m \u001b[0;32min\u001b[0m \u001b[0mArrivalULDNumber_list\u001b[0m \u001b[0;32mfor\u001b[0m \u001b[0mr\u001b[0m \u001b[0;32min\u001b[0m \u001b[0mrange\u001b[0m\u001b[0;34m(\u001b[0m\u001b[0mshipment_arrival_time_minutes_loop\u001b[0m\u001b[0;34m+\u001b[0m\u001b[0;36m1\u001b[0m\u001b[0;34m,\u001b[0m \u001b[0mshipment_arrival_time_minutes_loop\u001b[0m\u001b[0;34m+\u001b[0m\u001b[0mhandling_minutes\u001b[0m\u001b[0;34m+\u001b[0m\u001b[0;36m1\u001b[0m\u001b[0;34m)\u001b[0m\u001b[0;34m)\u001b[0m\u001b[0;34m)\u001b[0m\u001b[0;34m\u001b[0m\u001b[0;34m\u001b[0m\u001b[0m\n\u001b[0m",
      "\u001b[0;31mKeyError\u001b[0m: (21231, 'B BD NRML-1', (25671251, 25671311))"
     ]
    }
   ],
   "source": [
    "for i in ArrivalULDNumber_list:\n",
    "    for j in BreakDownZoneName_list:\n",
    "        #print(int(i),str(j))\n",
    "        new_check = df_merge1[(df_merge1.ArrivalULDNumber==i) & (df_merge1.BreakDownZoneName==j)]\n",
    "        shipment_arrival_time_minutes_loop = list(new_check['Shipment_arrival_time_minutes'].unique())[0]\n",
    "        shipment_arrival_duation_minutes_loop = list(new_check['one_hour_duration'].unique())[0] #list(new_check['Shipment_duration_minutes'].unique())[0]\n",
    "        handling_minutes = list(new_check['handling_m'].unique())[0]\n",
    "        cap = list(new_check['NumberOfWorkstations'].unique())[0]\n",
    "        #for k in range(shipment_arrival_time_minutes_loop+1, shipment_arrival_time_minutes_loop+shipment_arrival_duation_minutes_loop+1):\n",
    "        model.addConstr(cap - quicksum(x[a,j,(shipment_arrival_time_minutes_loop+1, shipment_arrival_time_minutes_loop+shipment_arrival_duation_minutes_loop+1)] for a in ArrivalULDNumber_list) >= quicksum(x[p,j,r] for p in ArrivalULDNumber_list for r in range(shipment_arrival_time_minutes_loop+1, shipment_arrival_time_minutes_loop+handling_minutes+1)))"
   ]
  },
  {
   "cell_type": "code",
   "execution_count": 89,
   "metadata": {},
   "outputs": [],
   "source": [
    "t_max = model.addVar(vtype=GRB.INTEGER, obj=1.0, name=\"t_max\")"
   ]
  },
  {
   "cell_type": "code",
   "execution_count": 90,
   "metadata": {},
   "outputs": [],
   "source": [
    "for i in ArrivalULDNumber_list:\n",
    "        #print(int(i),str(j))\n",
    "    new_check = df_merge1[(df_merge1.ArrivalULDNumber==i) & (df_merge1.BreakDownZoneName==j)]\n",
    "    shipment_arrival_time_minutes_loop = list(new_check['Shipment_arrival_time_minutes'].unique())[0]\n",
    "    shipment_arrival_duation_minutes_loop = list(new_check['one_hour_duration'].unique())[0] #list(new_check['Shipment_duration_minutes'].unique())[0]\n",
    "    arrival_time_each_uld = list(new_check['Shipment_arrival_time_minutes'].unique())[0]\n",
    "    transport_time_each_bd_zone = list(new_check['m'].unique())[0]\n",
    "    model.addConstr(quicksum(x[i,b,c] for b in BreakDownZoneName_list for c in range(shipment_arrival_time_minutes_loop+1, shipment_arrival_time_minutes_loop+shipment_arrival_duation_minutes_loop+1)) <= t_max)"
   ]
  },
  {
   "cell_type": "code",
   "execution_count": 91,
   "metadata": {},
   "outputs": [
    {
     "name": "stdout",
     "output_type": "stream",
     "text": [
      "Optimize a model with 368 rows, 361 columns and 10380 nonzeros\n",
      "Variable types: 0 continuous, 361 integer (360 binary)\n",
      "Coefficient statistics:\n",
      "  Matrix range     [1e+00, 2e+00]\n",
      "  Objective range  [1e+00, 1e+00]\n",
      "  Bounds range     [1e+00, 1e+00]\n",
      "  RHS range        [1e+00, 3e+07]\n",
      "Presolve removed 61 rows and 1 columns\n",
      "Presolve time: 0.00s\n",
      "\n",
      "Explored 0 nodes (0 simplex iterations) in 0.03 seconds\n",
      "Thread count was 1 (of 4 available processors)\n",
      "\n",
      "Solution count 0\n",
      "\n",
      "Model is infeasible\n",
      "Best objective -, best bound -, gap -\n"
     ]
    }
   ],
   "source": [
    "model.optimize()"
   ]
  },
  {
   "cell_type": "code",
   "execution_count": 79,
   "metadata": {
    "scrolled": true
   },
   "outputs": [
    {
     "ename": "TypeError",
     "evalue": "'int' object is not subscriptable",
     "output_type": "error",
     "traceback": [
      "\u001b[0;31m---------------------------------------------------------------------------\u001b[0m",
      "\u001b[0;31mTypeError\u001b[0m                                 Traceback (most recent call last)",
      "\u001b[0;32m<ipython-input-79-a990eb893d87>\u001b[0m in \u001b[0;36m<module>\u001b[0;34m\u001b[0m\n\u001b[1;32m      6\u001b[0m         \u001b[0mshipment_arrival_duation_minutes_loop\u001b[0m \u001b[0;34m=\u001b[0m \u001b[0mlist\u001b[0m\u001b[0;34m(\u001b[0m\u001b[0mnew_check\u001b[0m\u001b[0;34m[\u001b[0m\u001b[0;34m'one_hour_duration'\u001b[0m\u001b[0;34m]\u001b[0m\u001b[0;34m.\u001b[0m\u001b[0munique\u001b[0m\u001b[0;34m(\u001b[0m\u001b[0;34m)\u001b[0m\u001b[0;34m)\u001b[0m\u001b[0;34m[\u001b[0m\u001b[0;36m0\u001b[0m\u001b[0;34m]\u001b[0m \u001b[0;31m#list(new_check['Shipment_duration_minutes'].unique())[0]\u001b[0m\u001b[0;34m\u001b[0m\u001b[0;34m\u001b[0m\u001b[0m\n\u001b[1;32m      7\u001b[0m         \u001b[0;32mfor\u001b[0m \u001b[0mk\u001b[0m \u001b[0;32min\u001b[0m \u001b[0mrange\u001b[0m\u001b[0;34m(\u001b[0m\u001b[0mshipment_arrival_duation_minutes_loop\u001b[0m\u001b[0;34m)\u001b[0m\u001b[0;34m:\u001b[0m\u001b[0;34m\u001b[0m\u001b[0;34m\u001b[0m\u001b[0m\n\u001b[0;32m----> 8\u001b[0;31m             \u001b[0mt\u001b[0m \u001b[0;34m=\u001b[0m \u001b[0mmodel\u001b[0m\u001b[0;34m.\u001b[0m\u001b[0maddVar\u001b[0m\u001b[0;34m(\u001b[0m\u001b[0mobj\u001b[0m\u001b[0;34m=\u001b[0m\u001b[0;34m(\u001b[0m\u001b[0mshipment_arrival_time_minutes_loop\u001b[0m\u001b[0;34m+\u001b[0m\u001b[0mk\u001b[0m\u001b[0;34m+\u001b[0m\u001b[0;36m1\u001b[0m\u001b[0;34m)\u001b[0m\u001b[0;34m,\u001b[0m \u001b[0mvtype\u001b[0m\u001b[0;34m=\u001b[0m\u001b[0mGRB\u001b[0m\u001b[0;34m.\u001b[0m\u001b[0mBASIC\u001b[0m\u001b[0;34m)\u001b[0m\u001b[0;34m\u001b[0m\u001b[0;34m\u001b[0m\u001b[0m\n\u001b[0m",
      "\u001b[0;32mmodel.pxi\u001b[0m in \u001b[0;36mgurobipy.Model.addVar\u001b[0;34m()\u001b[0m\n",
      "\u001b[0;31mTypeError\u001b[0m: 'int' object is not subscriptable"
     ]
    }
   ],
   "source": [
    "for i in ArrivalULDNumber_list:\n",
    "    for j in BreakDownZoneName_list:\n",
    "        #print(int(i),str(j))\n",
    "        new_check = df_merge1[(df_merge1.ArrivalULDNumber==i) & (df_merge1.BreakDownZoneName==j)]\n",
    "        shipment_arrival_time_minutes_loop = list(new_check['Shipment_arrival_time_minutes'].unique())[0]\n",
    "        shipment_arrival_duation_minutes_loop = list(new_check['one_hour_duration'].unique())[0] #list(new_check['Shipment_duration_minutes'].unique())[0]\n",
    "        for k in range(shipment_arrival_duation_minutes_loop):\n",
    "            t = model.addVar(obj=(shipment_arrival_time_minutes_loop+k+1), vtype=GRB.BASIC)"
   ]
  },
  {
   "cell_type": "code",
   "execution_count": 64,
   "metadata": {},
   "outputs": [
    {
     "data": {
      "text/html": [
       "<div>\n",
       "<style scoped>\n",
       "    .dataframe tbody tr th:only-of-type {\n",
       "        vertical-align: middle;\n",
       "    }\n",
       "\n",
       "    .dataframe tbody tr th {\n",
       "        vertical-align: top;\n",
       "    }\n",
       "\n",
       "    .dataframe thead th {\n",
       "        text-align: right;\n",
       "    }\n",
       "</style>\n",
       "<table border=\"1\" class=\"dataframe\">\n",
       "  <thead>\n",
       "    <tr style=\"text-align: right;\">\n",
       "      <th></th>\n",
       "      <th>DropZone</th>\n",
       "      <th>ArrivalULDNumber</th>\n",
       "      <th>BreakDownZoneName</th>\n",
       "      <th>DropZoneName</th>\n",
       "      <th>TransportDuration</th>\n",
       "      <th>h</th>\n",
       "      <th>m</th>\n",
       "      <th>s</th>\n",
       "      <th>key</th>\n",
       "      <th>dz_type</th>\n",
       "      <th>bd_type1</th>\n",
       "      <th>bd_type</th>\n",
       "      <th>key_for_type</th>\n",
       "      <th>Shipment_duration_minutes</th>\n",
       "      <th>Shipment_arrival_time_minutes</th>\n",
       "      <th>Name</th>\n",
       "      <th>NumberOfWorkstations</th>\n",
       "      <th>handling_m</th>\n",
       "      <th>one_hour_duration</th>\n",
       "    </tr>\n",
       "  </thead>\n",
       "  <tbody>\n",
       "    <tr>\n",
       "      <th>0</th>\n",
       "      <td>DZ NRML-2</td>\n",
       "      <td>21231</td>\n",
       "      <td>B BD NRML-1</td>\n",
       "      <td>DZ NRML-2</td>\n",
       "      <td>00:11:00</td>\n",
       "      <td>0</td>\n",
       "      <td>11</td>\n",
       "      <td>0</td>\n",
       "      <td>21231_B BD NRML-1</td>\n",
       "      <td>NRML</td>\n",
       "      <td>NRML-1</td>\n",
       "      <td>NRML</td>\n",
       "      <td>1</td>\n",
       "      <td>2825</td>\n",
       "      <td>25671250</td>\n",
       "      <td>B BD NRML-1</td>\n",
       "      <td>33</td>\n",
       "      <td>24</td>\n",
       "      <td>60</td>\n",
       "    </tr>\n",
       "    <tr>\n",
       "      <th>1</th>\n",
       "      <td>DZ NRML-2</td>\n",
       "      <td>21231</td>\n",
       "      <td>B BD NRML-2</td>\n",
       "      <td>DZ NRML-2</td>\n",
       "      <td>00:17:00</td>\n",
       "      <td>0</td>\n",
       "      <td>17</td>\n",
       "      <td>0</td>\n",
       "      <td>21231_B BD NRML-2</td>\n",
       "      <td>NRML</td>\n",
       "      <td>NRML-1</td>\n",
       "      <td>NRML</td>\n",
       "      <td>1</td>\n",
       "      <td>2825</td>\n",
       "      <td>25671250</td>\n",
       "      <td>B BD NRML-2</td>\n",
       "      <td>10</td>\n",
       "      <td>24</td>\n",
       "      <td>60</td>\n",
       "    </tr>\n",
       "    <tr>\n",
       "      <th>2</th>\n",
       "      <td>DZ NRML-2</td>\n",
       "      <td>21231</td>\n",
       "      <td>BD NRML-1</td>\n",
       "      <td>DZ NRML-2</td>\n",
       "      <td>00:05:00</td>\n",
       "      <td>0</td>\n",
       "      <td>5</td>\n",
       "      <td>0</td>\n",
       "      <td>21231_BD NRML-1</td>\n",
       "      <td>NRML</td>\n",
       "      <td>NRML-1</td>\n",
       "      <td>NRML</td>\n",
       "      <td>1</td>\n",
       "      <td>2825</td>\n",
       "      <td>25671250</td>\n",
       "      <td>BD NRML-1</td>\n",
       "      <td>5</td>\n",
       "      <td>20</td>\n",
       "      <td>60</td>\n",
       "    </tr>\n",
       "    <tr>\n",
       "      <th>3</th>\n",
       "      <td>DZ NRML-2</td>\n",
       "      <td>21231</td>\n",
       "      <td>BD NRML-2</td>\n",
       "      <td>DZ NRML-2</td>\n",
       "      <td>00:24:00</td>\n",
       "      <td>0</td>\n",
       "      <td>24</td>\n",
       "      <td>0</td>\n",
       "      <td>21231_BD NRML-2</td>\n",
       "      <td>NRML</td>\n",
       "      <td>NRML-2</td>\n",
       "      <td>NRML</td>\n",
       "      <td>1</td>\n",
       "      <td>2825</td>\n",
       "      <td>25671250</td>\n",
       "      <td>BD NRML-2</td>\n",
       "      <td>6</td>\n",
       "      <td>20</td>\n",
       "      <td>60</td>\n",
       "    </tr>\n",
       "    <tr>\n",
       "      <th>4</th>\n",
       "      <td>DZ NRML-2</td>\n",
       "      <td>21231</td>\n",
       "      <td>BD NRML-3</td>\n",
       "      <td>DZ NRML-2</td>\n",
       "      <td>00:06:00</td>\n",
       "      <td>0</td>\n",
       "      <td>6</td>\n",
       "      <td>0</td>\n",
       "      <td>21231_BD NRML-3</td>\n",
       "      <td>NRML</td>\n",
       "      <td>NRML-3</td>\n",
       "      <td>NRML</td>\n",
       "      <td>1</td>\n",
       "      <td>2825</td>\n",
       "      <td>25671250</td>\n",
       "      <td>BD NRML-3</td>\n",
       "      <td>3</td>\n",
       "      <td>20</td>\n",
       "      <td>60</td>\n",
       "    </tr>\n",
       "    <tr>\n",
       "      <th>5</th>\n",
       "      <td>DZ NRML-2</td>\n",
       "      <td>21231</td>\n",
       "      <td>BD NRML-4</td>\n",
       "      <td>DZ NRML-2</td>\n",
       "      <td>00:13:00</td>\n",
       "      <td>0</td>\n",
       "      <td>13</td>\n",
       "      <td>0</td>\n",
       "      <td>21231_BD NRML-4</td>\n",
       "      <td>NRML</td>\n",
       "      <td>NRML-4</td>\n",
       "      <td>NRML</td>\n",
       "      <td>1</td>\n",
       "      <td>2825</td>\n",
       "      <td>25671250</td>\n",
       "      <td>BD NRML-4</td>\n",
       "      <td>3</td>\n",
       "      <td>13</td>\n",
       "      <td>60</td>\n",
       "    </tr>\n",
       "  </tbody>\n",
       "</table>\n",
       "</div>"
      ],
      "text/plain": [
       "    DropZone  ArrivalULDNumber BreakDownZoneName DropZoneName  \\\n",
       "0  DZ NRML-2             21231       B BD NRML-1    DZ NRML-2   \n",
       "1  DZ NRML-2             21231       B BD NRML-2    DZ NRML-2   \n",
       "2  DZ NRML-2             21231         BD NRML-1    DZ NRML-2   \n",
       "3  DZ NRML-2             21231         BD NRML-2    DZ NRML-2   \n",
       "4  DZ NRML-2             21231         BD NRML-3    DZ NRML-2   \n",
       "5  DZ NRML-2             21231         BD NRML-4    DZ NRML-2   \n",
       "\n",
       "  TransportDuration  h   m  s                key dz_type bd_type1 bd_type  \\\n",
       "0          00:11:00  0  11  0  21231_B BD NRML-1    NRML   NRML-1    NRML   \n",
       "1          00:17:00  0  17  0  21231_B BD NRML-2    NRML   NRML-1    NRML   \n",
       "2          00:05:00  0   5  0    21231_BD NRML-1    NRML   NRML-1    NRML   \n",
       "3          00:24:00  0  24  0    21231_BD NRML-2    NRML   NRML-2    NRML   \n",
       "4          00:06:00  0   6  0    21231_BD NRML-3    NRML   NRML-3    NRML   \n",
       "5          00:13:00  0  13  0    21231_BD NRML-4    NRML   NRML-4    NRML   \n",
       "\n",
       "  key_for_type  Shipment_duration_minutes  Shipment_arrival_time_minutes  \\\n",
       "0            1                       2825                       25671250   \n",
       "1            1                       2825                       25671250   \n",
       "2            1                       2825                       25671250   \n",
       "3            1                       2825                       25671250   \n",
       "4            1                       2825                       25671250   \n",
       "5            1                       2825                       25671250   \n",
       "\n",
       "          Name  NumberOfWorkstations  handling_m  one_hour_duration  \n",
       "0  B BD NRML-1                    33          24                 60  \n",
       "1  B BD NRML-2                    10          24                 60  \n",
       "2    BD NRML-1                     5          20                 60  \n",
       "3    BD NRML-2                     6          20                 60  \n",
       "4    BD NRML-3                     3          20                 60  \n",
       "5    BD NRML-4                     3          13                 60  "
      ]
     },
     "execution_count": 64,
     "metadata": {},
     "output_type": "execute_result"
    }
   ],
   "source": [
    "df_merge1"
   ]
  },
  {
   "cell_type": "code",
   "execution_count": 54,
   "metadata": {},
   "outputs": [],
   "source": [
    "for i in ArrivalULDNumber_list:\n",
    "    for j in BreakDownZoneName_list:\n",
    "        #print(int(i),str(j))\n",
    "        new_check = df_merge1[(df_merge1.ArrivalULDNumber==i) & (df_merge1.BreakDownZoneName==j)]\n",
    "        shipment_arrival_time_minutes_loop = list(new_check['Shipment_arrival_time_minutes'].unique())[0]\n",
    "        shipment_arrival_duation_minutes_loop = list(new_check['one_hour_duration'].unique())[0] #list(new_check['Shipment_duration_minutes'].unique())[0]\n",
    "        model.addConstr(quicksum(x[i,b,c] for b in BreakDownZoneName_list for c in range(shipment_arrival_time_minutes_loop+1, shipment_arrival_time_minutes_loop+shipment_arrival_duation_minutes_loop+1)) == 1)"
   ]
  },
  {
   "cell_type": "code",
   "execution_count": 76,
   "metadata": {},
   "outputs": [],
   "source": []
  },
  {
   "cell_type": "code",
   "execution_count": 77,
   "metadata": {},
   "outputs": [],
   "source": []
  },
  {
   "cell_type": "code",
   "execution_count": 78,
   "metadata": {},
   "outputs": [],
   "source": []
  },
  {
   "cell_type": "code",
   "execution_count": 79,
   "metadata": {},
   "outputs": [],
   "source": []
  },
  {
   "cell_type": "code",
   "execution_count": 41,
   "metadata": {},
   "outputs": [
    {
     "data": {
      "text/plain": [
       "25671310"
      ]
     },
     "execution_count": 41,
     "metadata": {},
     "output_type": "execute_result"
    }
   ],
   "source": [
    "max(t_max)"
   ]
  },
  {
   "cell_type": "code",
   "execution_count": 80,
   "metadata": {},
   "outputs": [],
   "source": []
  },
  {
   "cell_type": "code",
   "execution_count": 44,
   "metadata": {},
   "outputs": [],
   "source": [
    "#obj = t_max\n",
    "#model.setObjective(obj, GRB.MINIMIZE)"
   ]
  },
  {
   "cell_type": "code",
   "execution_count": 81,
   "metadata": {},
   "outputs": [
    {
     "name": "stdout",
     "output_type": "stream",
     "text": [
      "Optimize a model with 722 rows, 361 columns and 137820 nonzeros\n",
      "Variable types: 0 continuous, 361 integer (360 binary)\n",
      "Coefficient statistics:\n",
      "  Matrix range     [1e+00, 2e+00]\n",
      "  Objective range  [1e+00, 1e+00]\n",
      "  Bounds range     [1e+00, 1e+00]\n",
      "  RHS range        [1e+00, 3e+07]\n",
      "Presolve removed 61 rows and 1 columns\n",
      "Presolve time: 0.01s\n",
      "\n",
      "Explored 0 nodes (0 simplex iterations) in 0.09 seconds\n",
      "Thread count was 1 (of 4 available processors)\n",
      "\n",
      "Solution count 0\n",
      "\n",
      "Model is infeasible\n",
      "Best objective -, best bound -, gap -\n"
     ]
    }
   ],
   "source": [
    "model.optimize()"
   ]
  },
  {
   "cell_type": "code",
   "execution_count": 77,
   "metadata": {
    "collapsed": true
   },
   "outputs": [
    {
     "ename": "AttributeError",
     "evalue": "b\"Unable to retrieve attribute 'x'\"",
     "output_type": "error",
     "traceback": [
      "\u001b[0;31m---------------------------------------------------------------------------\u001b[0m",
      "\u001b[0;31mAttributeError\u001b[0m                            Traceback (most recent call last)",
      "\u001b[0;32m<ipython-input-77-53b5d61d9441>\u001b[0m in \u001b[0;36m<module>\u001b[0;34m\u001b[0m\n\u001b[0;32m----> 1\u001b[0;31m \u001b[0mx\u001b[0m\u001b[0;34m[\u001b[0m\u001b[0;36m21231\u001b[0m\u001b[0;34m,\u001b[0m \u001b[0;34m'B BD NRML-1'\u001b[0m\u001b[0;34m,\u001b[0m \u001b[0;36m25671251\u001b[0m\u001b[0;34m]\u001b[0m\u001b[0;34m.\u001b[0m\u001b[0mx\u001b[0m\u001b[0;34m\u001b[0m\u001b[0;34m\u001b[0m\u001b[0m\n\u001b[0m\u001b[1;32m      2\u001b[0m \u001b[0;31m#df_merge1[df_merge1.ArrivalULDNumber == 76631]\u001b[0m\u001b[0;34m\u001b[0m\u001b[0;34m\u001b[0m\u001b[0;34m\u001b[0m\u001b[0m\n",
      "\u001b[0;32mvar.pxi\u001b[0m in \u001b[0;36mgurobipy.Var.__getattr__\u001b[0;34m()\u001b[0m\n",
      "\u001b[0;32mvar.pxi\u001b[0m in \u001b[0;36mgurobipy.Var.getAttr\u001b[0;34m()\u001b[0m\n",
      "\u001b[0;31mAttributeError\u001b[0m: b\"Unable to retrieve attribute 'x'\""
     ]
    }
   ],
   "source": [
    "#x[21231, 'B BD NRML-1', 25671251].x\n",
    "#df_merge1[df_merge1.ArrivalULDNumber == 76631]"
   ]
  },
  {
   "cell_type": "code",
   "execution_count": 78,
   "metadata": {},
   "outputs": [
    {
     "ename": "AttributeError",
     "evalue": "'dict' object has no attribute 'sum'",
     "output_type": "error",
     "traceback": [
      "\u001b[0;31m---------------------------------------------------------------------------\u001b[0m",
      "\u001b[0;31mAttributeError\u001b[0m                            Traceback (most recent call last)",
      "\u001b[0;32m<ipython-input-78-12b25d211f6d>\u001b[0m in \u001b[0;36m<module>\u001b[0;34m\u001b[0m\n\u001b[0;32m----> 1\u001b[0;31m \u001b[0mobj\u001b[0m \u001b[0;34m=\u001b[0m \u001b[0mx\u001b[0m\u001b[0;34m.\u001b[0m\u001b[0msum\u001b[0m\u001b[0;34m(\u001b[0m\u001b[0;34m)\u001b[0m\u001b[0;34m\u001b[0m\u001b[0;34m\u001b[0m\u001b[0m\n\u001b[0m\u001b[1;32m      2\u001b[0m \u001b[0mmodel\u001b[0m\u001b[0;34m.\u001b[0m\u001b[0msetObjective\u001b[0m\u001b[0;34m(\u001b[0m\u001b[0mobj\u001b[0m\u001b[0;34m,\u001b[0m \u001b[0mGRB\u001b[0m\u001b[0;34m.\u001b[0m\u001b[0mMINIMIZE\u001b[0m\u001b[0;34m)\u001b[0m\u001b[0;34m\u001b[0m\u001b[0;34m\u001b[0m\u001b[0m\n",
      "\u001b[0;31mAttributeError\u001b[0m: 'dict' object has no attribute 'sum'"
     ]
    }
   ],
   "source": [
    "obj = x.sum()\n",
    "model.setObjective(obj, GRB.MINIMIZE)"
   ]
  },
  {
   "cell_type": "code",
   "execution_count": 69,
   "metadata": {},
   "outputs": [
    {
     "name": "stdout",
     "output_type": "stream",
     "text": [
      "Optimize a model with 1080 rows, 360 columns and 280800 nonzeros\n",
      "Variable types: 0 continuous, 360 integer (360 binary)\n",
      "Coefficient statistics:\n",
      "  Matrix range     [1e+00, 2e+00]\n",
      "  Objective range  [5e+00, 2e+01]\n",
      "  Bounds range     [1e+00, 1e+00]\n",
      "  RHS range        [1e+00, 3e+07]\n",
      "Presolve time: 0.02s\n",
      "\n",
      "Explored 0 nodes (0 simplex iterations) in 0.09 seconds\n",
      "Thread count was 1 (of 4 available processors)\n",
      "\n",
      "Solution count 0\n",
      "\n",
      "Model is infeasible\n",
      "Best objective -, best bound -, gap -\n"
     ]
    }
   ],
   "source": [
    "model.optimize()"
   ]
  },
  {
   "cell_type": "code",
   "execution_count": 70,
   "metadata": {
    "scrolled": true
   },
   "outputs": [
    {
     "ename": "AttributeError",
     "evalue": "b\"Unable to retrieve attribute 'x'\"",
     "output_type": "error",
     "traceback": [
      "\u001b[0;31m---------------------------------------------------------------------------\u001b[0m",
      "\u001b[0;31mAttributeError\u001b[0m                            Traceback (most recent call last)",
      "\u001b[0;32m<ipython-input-70-5b0c6078cd5e>\u001b[0m in \u001b[0;36m<module>\u001b[0;34m\u001b[0m\n\u001b[1;32m      6\u001b[0m         \u001b[0mshipment_arrival_duation_minutes_loop\u001b[0m \u001b[0;34m=\u001b[0m \u001b[0mlist\u001b[0m\u001b[0;34m(\u001b[0m\u001b[0mnew_check\u001b[0m\u001b[0;34m[\u001b[0m\u001b[0;34m'one_hour_duration'\u001b[0m\u001b[0;34m]\u001b[0m\u001b[0;34m.\u001b[0m\u001b[0munique\u001b[0m\u001b[0;34m(\u001b[0m\u001b[0;34m)\u001b[0m\u001b[0;34m)\u001b[0m\u001b[0;34m[\u001b[0m\u001b[0;36m0\u001b[0m\u001b[0;34m]\u001b[0m \u001b[0;31m#list(new_check['Shipment_duration_minutes'].unique())[0]\u001b[0m\u001b[0;34m\u001b[0m\u001b[0;34m\u001b[0m\u001b[0m\n\u001b[1;32m      7\u001b[0m         \u001b[0;32mfor\u001b[0m \u001b[0mk\u001b[0m \u001b[0;32min\u001b[0m \u001b[0mrange\u001b[0m\u001b[0;34m(\u001b[0m\u001b[0mshipment_arrival_duation_minutes_loop\u001b[0m\u001b[0;34m)\u001b[0m\u001b[0;34m:\u001b[0m\u001b[0;34m\u001b[0m\u001b[0;34m\u001b[0m\u001b[0m\n\u001b[0;32m----> 8\u001b[0;31m             \u001b[0;32mif\u001b[0m\u001b[0;34m(\u001b[0m\u001b[0mx\u001b[0m\u001b[0;34m[\u001b[0m\u001b[0mi\u001b[0m\u001b[0;34m,\u001b[0m\u001b[0mj\u001b[0m\u001b[0;34m,\u001b[0m\u001b[0;34m(\u001b[0m\u001b[0mshipment_arrival_time_minutes_loop\u001b[0m\u001b[0;34m+\u001b[0m\u001b[0mk\u001b[0m\u001b[0;34m+\u001b[0m\u001b[0;36m1\u001b[0m\u001b[0;34m)\u001b[0m\u001b[0;34m]\u001b[0m\u001b[0;34m.\u001b[0m\u001b[0mx\u001b[0m\u001b[0;34m>\u001b[0m\u001b[0;36m0.5\u001b[0m\u001b[0;34m)\u001b[0m\u001b[0;34m:\u001b[0m\u001b[0;34m\u001b[0m\u001b[0;34m\u001b[0m\u001b[0m\n\u001b[0m\u001b[1;32m      9\u001b[0m                 \u001b[0mprint\u001b[0m\u001b[0;34m(\u001b[0m\u001b[0mi\u001b[0m\u001b[0;34m,\u001b[0m \u001b[0;34m\"assigned to\"\u001b[0m\u001b[0;34m,\u001b[0m \u001b[0mj\u001b[0m\u001b[0;34m,\u001b[0m \u001b[0mk\u001b[0m\u001b[0;34m)\u001b[0m\u001b[0;31m# todo\u001b[0m\u001b[0;34m\u001b[0m\u001b[0;34m\u001b[0m\u001b[0m\n",
      "\u001b[0;32mvar.pxi\u001b[0m in \u001b[0;36mgurobipy.Var.__getattr__\u001b[0;34m()\u001b[0m\n",
      "\u001b[0;32mvar.pxi\u001b[0m in \u001b[0;36mgurobipy.Var.getAttr\u001b[0;34m()\u001b[0m\n",
      "\u001b[0;31mAttributeError\u001b[0m: b\"Unable to retrieve attribute 'x'\""
     ]
    }
   ],
   "source": [
    "for i in ArrivalULDNumber_list:\n",
    "    for j in BreakDownZoneName_list:\n",
    "        #print(int(i),str(j))\n",
    "        new_check = df_merge1[(df_merge1.ArrivalULDNumber==i) & (df_merge1.BreakDownZoneName==j)]\n",
    "        shipment_arrival_time_minutes_loop = list(new_check['Shipment_arrival_time_minutes'].unique())[0]\n",
    "        shipment_arrival_duation_minutes_loop = list(new_check['one_hour_duration'].unique())[0] #list(new_check['Shipment_duration_minutes'].unique())[0]\n",
    "        for k in range(shipment_arrival_duation_minutes_loop):\n",
    "            if(x[i,j,(shipment_arrival_time_minutes_loop+k+1)].x>0.5):\n",
    "                print(i, \"assigned to\", j, k)# todo"
   ]
  },
  {
   "cell_type": "code",
   "execution_count": 92,
   "metadata": {},
   "outputs": [],
   "source": [
    "model.write(\"bd_model.lp\")"
   ]
  },
  {
   "cell_type": "code",
   "execution_count": 62,
   "metadata": {},
   "outputs": [],
   "source": [
    "import os\n",
    "cwd = os.getcwd()"
   ]
  },
  {
   "cell_type": "code",
   "execution_count": 63,
   "metadata": {},
   "outputs": [
    {
     "data": {
      "text/plain": [
       "'/home/luckshan/Documents/Gurobi'"
      ]
     },
     "execution_count": 63,
     "metadata": {},
     "output_type": "execute_result"
    }
   ],
   "source": [
    "cwd"
   ]
  }
 ],
 "metadata": {
  "kernelspec": {
   "display_name": "Python 3",
   "language": "python",
   "name": "python3"
  },
  "language_info": {
   "codemirror_mode": {
    "name": "ipython",
    "version": 3
   },
   "file_extension": ".py",
   "mimetype": "text/x-python",
   "name": "python",
   "nbconvert_exporter": "python",
   "pygments_lexer": "ipython3",
   "version": "3.6.8"
  }
 },
 "nbformat": 4,
 "nbformat_minor": 2
}
